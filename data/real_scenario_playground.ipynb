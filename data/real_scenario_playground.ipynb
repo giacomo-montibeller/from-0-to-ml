{
 "cells": [
  {
   "cell_type": "markdown",
   "metadata": {},
   "source": [
    "### Useful imports"
   ]
  },
  {
   "cell_type": "code",
   "execution_count": 1,
   "metadata": {},
   "outputs": [],
   "source": [
    "import numpy as np\n",
    "import pandas as pd\n",
    "import matplotlib.pyplot as plt\n",
    "import seaborn as sns\n",
    "from tensorflow.keras import models, activations, layers, metrics, optimizers, regularizers, callbacks\n",
    "\n",
    "pd.set_option('display.max_rows', 500)\n",
    "pd.set_option('display.max_columns', 500)"
   ]
  },
  {
   "cell_type": "markdown",
   "metadata": {},
   "source": [
    "### Load CSV"
   ]
  },
  {
   "cell_type": "code",
   "execution_count": 2,
   "metadata": {
    "scrolled": true
   },
   "outputs": [],
   "source": [
    "dataset = pd.read_csv(\"income.csv\", header=0, skipinitialspace=True)\n",
    "del dataset['Unnamed: 0']"
   ]
  },
  {
   "cell_type": "markdown",
   "metadata": {},
   "source": [
    "### Useful python functions"
   ]
  },
  {
   "cell_type": "code",
   "execution_count": 3,
   "metadata": {},
   "outputs": [],
   "source": [
    "def replace_on_condition(dataset, column_name, condition_value, replace_value):\n",
    "    condition = dataset.loc[:, column_name].str.contains(condition_value)\n",
    "    dataset.loc[condition, column_name] = replace_value\n",
    "    \n",
    "    return dataset\n",
    "\n",
    "north_america = ['United-States', 'Cuba', 'Jamaica', 'Mexico', 'Honduras', 'Canada', 'Puerto-Rico', 'Outlying']\n",
    "south_america = ['South', 'Philippines', 'Columbia', 'Cambodia', 'Ecuador', 'Haiti', 'Dominican-Republic', 'El-Salvador', 'Guatemala', 'Peru', 'Outlying-US(Guam-USVI-etc)', 'Trinadad&Tobago', 'Nicaragua']\n",
    "asia = ['India', 'Iran', 'Thailand', 'Laos', 'Taiwan', 'China', 'Japan', 'Vietnam', 'Hong']\n",
    "europe = ['England', 'Germany', 'Italy', 'Poland', 'Portugal', 'France', 'Yugoslavia', 'Scotland', 'Greece', 'Ireland', 'Hungary', 'Holand-Netherlands']\n",
    "other = ['\\?']\n",
    "\n",
    "def replace_native_country(dataset, values, replacement):\n",
    "    for value in values:\n",
    "        dataset = replace_on_condition(dataset, \"native country\", value, replacement)\n",
    "    \n",
    "    return dataset\n",
    "\n",
    "def standardize_number(dataframe, column_name):\n",
    "    return (dataframe[column_name] - dataframe[column_name].mean()) / dataframe[column_name].std()\n",
    "\n",
    "def expand_category(dataframe, column_name):\n",
    "    expanded_dataframe = pd.concat([dataframe, pd.get_dummies(dataframe[column_name], prefix=column_name)], axis=1)\n",
    "\n",
    "    expanded_dataframe.drop([column_name], axis=1, inplace=True)\n",
    "\n",
    "    return expanded_dataframe\n",
    "\n",
    "def unison_shuffled_copies(a, b):\n",
    "    mask = np.random.permutation(len(a))\n",
    "    return a[mask], b[mask]\n",
    "\n",
    "def predict_and_plot(n, inputs, outputs):\n",
    "    selection = np.arange(n)\n",
    "\n",
    "    predicted = model.predict(inputs)[selection]\n",
    "\n",
    "    absolute_distance_from_outputs = np.abs(outputs[selection] - predicted)\n",
    "    missclassified_number = np.sum((absolute_distance_from_outputs > 0.5) * 1.0)\n",
    "    \n",
    "    plt.figure(figsize=(20,3))\n",
    "    plt.plot(np.zeros(n), 'b')\n",
    "    plt.plot(np.ones(n) * 0.5, 'b')\n",
    "    plt.plot(np.ones(n), 'b')\n",
    "    plt.plot(absolute_distance_from_outputs, 'xr')\n",
    "    \n",
    "    print(str(missclassified_number / n * 100) + \"%\")\n",
    "    plt.show()"
   ]
  },
  {
   "cell_type": "markdown",
   "metadata": {},
   "source": [
    "### Base NN model"
   ]
  },
  {
   "cell_type": "code",
   "execution_count": 4,
   "metadata": {},
   "outputs": [],
   "source": [
    "def build(output_size):\n",
    "    model = models.Sequential()\n",
    "    model.add(layers.Dense(units=output_size, activation=activations.sigmoid))\n",
    "\n",
    "    model.compile(loss='binary_crossentropy',\n",
    "                  optimizer='sgd')\n",
    "\n",
    "    return model\n",
    "\n",
    "def fit(epochs, batch_size, inputs, outputs):\n",
    "    model.fit(inputs, outputs,\n",
    "              batch_size=batch_size,\n",
    "              epochs=epochs)\n"
   ]
  }
 ],
 "metadata": {
  "kernelspec": {
   "display_name": "Python 3",
   "language": "python",
   "name": "python3"
  },
  "language_info": {
   "codemirror_mode": {
    "name": "ipython",
    "version": 3
   },
   "file_extension": ".py",
   "mimetype": "text/x-python",
   "name": "python",
   "nbconvert_exporter": "python",
   "pygments_lexer": "ipython3",
   "version": "3.6.8"
  }
 },
 "nbformat": 4,
 "nbformat_minor": 2
}
