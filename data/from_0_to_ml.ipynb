{
 "cells": [
  {
   "cell_type": "markdown",
   "metadata": {},
   "source": [
    "# From 0 to machine learning - Let's try an example with real data"
   ]
  },
  {
   "cell_type": "markdown",
   "metadata": {},
   "source": [
    "Start importing the required libraries."
   ]
  },
  {
   "cell_type": "code",
   "execution_count": 46,
   "metadata": {},
   "outputs": [],
   "source": [
    "import numpy as np\n",
    "import pandas as pd\n",
    "from tensorflow.keras import models, activations, layers, metrics, optimizers, regularizers, callbacks\n",
    "import re\n",
    "import datetime"
   ]
  },
  {
   "cell_type": "markdown",
   "metadata": {},
   "source": [
    "## Import dataset and show the first rows\n",
    "So you can have an idea of what the dataset we are using contains."
   ]
  },
  {
   "cell_type": "code",
   "execution_count": 2,
   "metadata": {},
   "outputs": [
    {
     "data": {
      "text/html": [
       "<div>\n",
       "<style scoped>\n",
       "    .dataframe tbody tr th:only-of-type {\n",
       "        vertical-align: middle;\n",
       "    }\n",
       "\n",
       "    .dataframe tbody tr th {\n",
       "        vertical-align: top;\n",
       "    }\n",
       "\n",
       "    .dataframe thead th {\n",
       "        text-align: right;\n",
       "    }\n",
       "</style>\n",
       "<table border=\"1\" class=\"dataframe\">\n",
       "  <thead>\n",
       "    <tr style=\"text-align: right;\">\n",
       "      <th></th>\n",
       "      <th>age</th>\n",
       "      <th>workclass</th>\n",
       "      <th>fnlwgt</th>\n",
       "      <th>education</th>\n",
       "      <th>education num</th>\n",
       "      <th>marital status</th>\n",
       "      <th>occupation</th>\n",
       "      <th>relationship</th>\n",
       "      <th>race</th>\n",
       "      <th>m_f</th>\n",
       "      <th>capital gain</th>\n",
       "      <th>capital loss</th>\n",
       "      <th>hours/week</th>\n",
       "      <th>native country</th>\n",
       "      <th>income bracket</th>\n",
       "    </tr>\n",
       "  </thead>\n",
       "  <tbody>\n",
       "    <tr>\n",
       "      <th>0</th>\n",
       "      <td>39</td>\n",
       "      <td>State-gov</td>\n",
       "      <td>77516</td>\n",
       "      <td>Bachelors</td>\n",
       "      <td>13</td>\n",
       "      <td>Never-married</td>\n",
       "      <td>Adm-clerical</td>\n",
       "      <td>Not-in-family</td>\n",
       "      <td>White</td>\n",
       "      <td>Male</td>\n",
       "      <td>2174</td>\n",
       "      <td>0</td>\n",
       "      <td>40</td>\n",
       "      <td>United-States</td>\n",
       "      <td>&lt;=50K</td>\n",
       "    </tr>\n",
       "    <tr>\n",
       "      <th>1</th>\n",
       "      <td>50</td>\n",
       "      <td>Self-emp-not-inc</td>\n",
       "      <td>83311</td>\n",
       "      <td>Bachelors</td>\n",
       "      <td>13</td>\n",
       "      <td>Married-civ-spouse</td>\n",
       "      <td>Exec-managerial</td>\n",
       "      <td>Husband</td>\n",
       "      <td>White</td>\n",
       "      <td>Male</td>\n",
       "      <td>0</td>\n",
       "      <td>0</td>\n",
       "      <td>13</td>\n",
       "      <td>United-States</td>\n",
       "      <td>&lt;=50K</td>\n",
       "    </tr>\n",
       "    <tr>\n",
       "      <th>2</th>\n",
       "      <td>38</td>\n",
       "      <td>Private</td>\n",
       "      <td>215646</td>\n",
       "      <td>HS-grad</td>\n",
       "      <td>9</td>\n",
       "      <td>Divorced</td>\n",
       "      <td>Handlers-cleaners</td>\n",
       "      <td>Not-in-family</td>\n",
       "      <td>White</td>\n",
       "      <td>Male</td>\n",
       "      <td>0</td>\n",
       "      <td>0</td>\n",
       "      <td>40</td>\n",
       "      <td>United-States</td>\n",
       "      <td>&lt;=50K</td>\n",
       "    </tr>\n",
       "    <tr>\n",
       "      <th>3</th>\n",
       "      <td>53</td>\n",
       "      <td>Private</td>\n",
       "      <td>234721</td>\n",
       "      <td>11th</td>\n",
       "      <td>7</td>\n",
       "      <td>Married-civ-spouse</td>\n",
       "      <td>Handlers-cleaners</td>\n",
       "      <td>Husband</td>\n",
       "      <td>Black</td>\n",
       "      <td>Male</td>\n",
       "      <td>0</td>\n",
       "      <td>0</td>\n",
       "      <td>40</td>\n",
       "      <td>United-States</td>\n",
       "      <td>&lt;=50K</td>\n",
       "    </tr>\n",
       "    <tr>\n",
       "      <th>4</th>\n",
       "      <td>28</td>\n",
       "      <td>Private</td>\n",
       "      <td>338409</td>\n",
       "      <td>Bachelors</td>\n",
       "      <td>13</td>\n",
       "      <td>Married-civ-spouse</td>\n",
       "      <td>Prof-specialty</td>\n",
       "      <td>Wife</td>\n",
       "      <td>Black</td>\n",
       "      <td>Female</td>\n",
       "      <td>0</td>\n",
       "      <td>0</td>\n",
       "      <td>40</td>\n",
       "      <td>Cuba</td>\n",
       "      <td>&lt;=50K</td>\n",
       "    </tr>\n",
       "  </tbody>\n",
       "</table>\n",
       "</div>"
      ],
      "text/plain": [
       "   age         workclass  fnlwgt  education  education num  \\\n",
       "0   39         State-gov   77516  Bachelors             13   \n",
       "1   50  Self-emp-not-inc   83311  Bachelors             13   \n",
       "2   38           Private  215646    HS-grad              9   \n",
       "3   53           Private  234721       11th              7   \n",
       "4   28           Private  338409  Bachelors             13   \n",
       "\n",
       "       marital status         occupation   relationship   race     m_f  \\\n",
       "0       Never-married       Adm-clerical  Not-in-family  White    Male   \n",
       "1  Married-civ-spouse    Exec-managerial        Husband  White    Male   \n",
       "2            Divorced  Handlers-cleaners  Not-in-family  White    Male   \n",
       "3  Married-civ-spouse  Handlers-cleaners        Husband  Black    Male   \n",
       "4  Married-civ-spouse     Prof-specialty           Wife  Black  Female   \n",
       "\n",
       "   capital gain  capital loss  hours/week native country income bracket  \n",
       "0          2174             0          40  United-States          <=50K  \n",
       "1             0             0          13  United-States          <=50K  \n",
       "2             0             0          40  United-States          <=50K  \n",
       "3             0             0          40  United-States          <=50K  \n",
       "4             0             0          40           Cuba          <=50K  "
      ]
     },
     "execution_count": 2,
     "metadata": {},
     "output_type": "execute_result"
    }
   ],
   "source": [
    "dataset = pd.read_csv(\"/workspace/data/income.csv\", header=0, skipinitialspace=True)\n",
    "del dataset['Unnamed: 0']\n",
    "dataset.head(5)"
   ]
  },
  {
   "cell_type": "markdown",
   "metadata": {},
   "source": [
    "## Aim of the project\n",
    "\n",
    "We want to predict the income of a person (the records of the dataset are labeled by the last column \"income bracket\")."
   ]
  },
  {
   "cell_type": "markdown",
   "metadata": {},
   "source": [
    "## Analize the dataset"
   ]
  },
  {
   "cell_type": "markdown",
   "metadata": {},
   "source": [
    "We see that we have some column names that doesn't describe what they contains.\n",
    "\n",
    "We find that the label for the row is the last column, the one that classify the income in two classes (more or less than 50k/year)."
   ]
  },
  {
   "cell_type": "code",
   "execution_count": 3,
   "metadata": {},
   "outputs": [
    {
     "data": {
      "text/html": [
       "<div>\n",
       "<style scoped>\n",
       "    .dataframe tbody tr th:only-of-type {\n",
       "        vertical-align: middle;\n",
       "    }\n",
       "\n",
       "    .dataframe tbody tr th {\n",
       "        vertical-align: top;\n",
       "    }\n",
       "\n",
       "    .dataframe thead th {\n",
       "        text-align: right;\n",
       "    }\n",
       "</style>\n",
       "<table border=\"1\" class=\"dataframe\">\n",
       "  <thead>\n",
       "    <tr style=\"text-align: right;\">\n",
       "      <th></th>\n",
       "      <th>age</th>\n",
       "      <th>workclass</th>\n",
       "      <th>fnlwgt</th>\n",
       "      <th>education</th>\n",
       "      <th>education num</th>\n",
       "      <th>marital status</th>\n",
       "      <th>occupation</th>\n",
       "      <th>relationship</th>\n",
       "      <th>race</th>\n",
       "      <th>gender</th>\n",
       "      <th>capital gain</th>\n",
       "      <th>capital loss</th>\n",
       "      <th>hours/week</th>\n",
       "      <th>native country</th>\n",
       "      <th>output</th>\n",
       "    </tr>\n",
       "  </thead>\n",
       "  <tbody>\n",
       "    <tr>\n",
       "      <th>0</th>\n",
       "      <td>39</td>\n",
       "      <td>State-gov</td>\n",
       "      <td>77516</td>\n",
       "      <td>Bachelors</td>\n",
       "      <td>13</td>\n",
       "      <td>Never-married</td>\n",
       "      <td>Adm-clerical</td>\n",
       "      <td>Not-in-family</td>\n",
       "      <td>White</td>\n",
       "      <td>Male</td>\n",
       "      <td>2174</td>\n",
       "      <td>0</td>\n",
       "      <td>40</td>\n",
       "      <td>United-States</td>\n",
       "      <td>&lt;=50K</td>\n",
       "    </tr>\n",
       "  </tbody>\n",
       "</table>\n",
       "</div>"
      ],
      "text/plain": [
       "   age  workclass  fnlwgt  education  education num marital status  \\\n",
       "0   39  State-gov   77516  Bachelors             13  Never-married   \n",
       "\n",
       "     occupation   relationship   race gender  capital gain  capital loss  \\\n",
       "0  Adm-clerical  Not-in-family  White   Male          2174             0   \n",
       "\n",
       "   hours/week native country output  \n",
       "0          40  United-States  <=50K  "
      ]
     },
     "execution_count": 3,
     "metadata": {},
     "output_type": "execute_result"
    }
   ],
   "source": [
    "dataset.rename(columns={\"m_f\": 'gender', \"income bracket\": \"output\"}, inplace=True)\n",
    "dataset.head(1)"
   ]
  },
  {
   "cell_type": "markdown",
   "metadata": {},
   "source": [
    "### Look for bad data\n",
    "Aim here is to find bad data such as typos and correct them."
   ]
  },
  {
   "cell_type": "code",
   "execution_count": 4,
   "metadata": {
    "scrolled": true
   },
   "outputs": [
    {
     "data": {
      "text/plain": [
       "race\n",
       "Amer-Indian-Eskimo      311\n",
       "Asian-Pac-Islander     1039\n",
       "Black                  3124\n",
       "Other                   271\n",
       "White                 27527\n",
       "Wite                    289\n",
       "Name: race, dtype: int64"
      ]
     },
     "execution_count": 4,
     "metadata": {},
     "output_type": "execute_result"
    }
   ],
   "source": [
    "dataset.groupby([\"race\"])[\"race\"].count()"
   ]
  },
  {
   "cell_type": "code",
   "execution_count": 5,
   "metadata": {
    "scrolled": true
   },
   "outputs": [
    {
     "data": {
      "text/plain": [
       "race\n",
       "Amer-Indian-Eskimo      311\n",
       "Asian-Pac-Islander     1039\n",
       "Black                  3124\n",
       "Other                   271\n",
       "White                 27816\n",
       "Name: race, dtype: int64"
      ]
     },
     "execution_count": 5,
     "metadata": {},
     "output_type": "execute_result"
    }
   ],
   "source": [
    "condition = dataset.loc[:, \"race\"] == \"Wite\"\n",
    "dataset.loc[condition, \"race\"] = \"White\"\n",
    "dataset.groupby([\"race\"])[\"race\"].count()"
   ]
  },
  {
   "cell_type": "markdown",
   "metadata": {},
   "source": [
    "Aggregate similar data to reduce feature dimension"
   ]
  },
  {
   "cell_type": "code",
   "execution_count": 6,
   "metadata": {},
   "outputs": [
    {
     "data": {
      "text/plain": [
       "array(['gov', 'self', 'private', 'other'], dtype=object)"
      ]
     },
     "execution_count": 6,
     "metadata": {},
     "output_type": "execute_result"
    }
   ],
   "source": [
    "def replace_on_condition(dataset, column_name, condition_value, replace_value):\n",
    "    condition = dataset.loc[:, column_name].str.contains(condition_value)\n",
    "    dataset.loc[condition, column_name] = replace_value\n",
    "    \n",
    "    return dataset\n",
    "    \n",
    "dataset = replace_on_condition(dataset, \"workclass\", \"Private\", \"private\")\n",
    "dataset = replace_on_condition(dataset, \"workclass\", \"Self\", \"self\")\n",
    "dataset = replace_on_condition(dataset, \"workclass\", \"gov\", \"gov\")\n",
    "dataset = replace_on_condition(dataset, \"workclass\", \"Without\", \"other\")\n",
    "dataset = replace_on_condition(dataset, \"workclass\", \"Never\", \"other\")\n",
    "dataset = replace_on_condition(dataset, \"workclass\", \"\\?\", \"other\")\n",
    "\n",
    "dataset[\"workclass\"].unique()"
   ]
  },
  {
   "cell_type": "code",
   "execution_count": 7,
   "metadata": {},
   "outputs": [
    {
     "data": {
      "text/plain": [
       "count    32561.000000\n",
       "mean        11.983778\n",
       "std          0.630738\n",
       "min          9.416216\n",
       "25%         11.676981\n",
       "50%         12.091542\n",
       "75%         12.376035\n",
       "max         14.210727\n",
       "Name: fnlwgt, dtype: float64"
      ]
     },
     "execution_count": 7,
     "metadata": {},
     "output_type": "execute_result"
    }
   ],
   "source": [
    "dataset[\"fnlwgt\"] = np.log1p(dataset[\"fnlwgt\"])\n",
    "dataset[\"fnlwgt\"].describe()"
   ]
  },
  {
   "cell_type": "code",
   "execution_count": 8,
   "metadata": {},
   "outputs": [],
   "source": [
    "def standardize_number(dataframe, column_name):\n",
    "    return (dataframe[column_name] - dataframe[column_name].mean()) / dataframe[column_name].std()\n",
    "\n",
    "for name in [\"age\", \"fnlwgt\", \"capital gain\", \"capital loss\", \"education num\", \"hours/week\"]:\n",
    "    dataset[name] = standardize_number(dataset, name)"
   ]
  },
  {
   "cell_type": "code",
   "execution_count": 9,
   "metadata": {},
   "outputs": [
    {
     "name": "stderr",
     "output_type": "stream",
     "text": [
      "/usr/local/lib/python3.6/dist-packages/pandas/core/strings.py:1843: UserWarning: This pattern has match groups. To actually get the groups, use str.extract.\n",
      "  return func(self, *args, **kwargs)\n"
     ]
    }
   ],
   "source": [
    "north_america = ['United-States', 'Cuba', 'Jamaica', 'Mexico', 'Honduras', 'Canada', 'Puerto-Rico']\n",
    "south_america = ['South', 'Philippines', 'Columbia', 'Cambodia', 'Ecuador', 'Haiti', 'Dominican-Republic', 'El-Salvador', 'Guatemala', 'Peru', 'Outlying-US(Guam-USVI-etc)', 'Trinadad&Tobago', 'Nicaragua']\n",
    "asia = ['India', 'Iran', 'Thailand', 'Laos', 'Taiwan', 'China', 'Japan', 'Vietnam', 'Hong']\n",
    "europe = ['England', 'Germany', 'Italy', 'Poland', 'Portugal', 'France', 'Yugoslavia', 'Scotland', 'Greece', 'Ireland', 'Hungary', 'Holand-Netherlands']\n",
    "other = ['\\?']\n",
    "\n",
    "def replace_native_country(dataset, values, replacement):\n",
    "    for value in values:\n",
    "        dataset = replace_on_condition(dataset, \"native country\", value, replacement)\n",
    "    \n",
    "    return dataset\n",
    "\n",
    "dataset = replace_native_country(dataset, north_america, \"north_america\")\n",
    "dataset = replace_native_country(dataset, south_america, \"south_america\")\n",
    "dataset = replace_native_country(dataset, asia, \"asia\")\n",
    "dataset = replace_native_country(dataset, europe, \"europe\")\n",
    "dataset = replace_native_country(dataset, other, \"other\")"
   ]
  },
  {
   "cell_type": "markdown",
   "metadata": {},
   "source": [
    "### Expand categorical data\n",
    "Aim here is to expand a categorical feature with finite values into more features."
   ]
  },
  {
   "cell_type": "code",
   "execution_count": 10,
   "metadata": {},
   "outputs": [],
   "source": [
    "def expand_category(dataframe, column_name):\n",
    "    expanded_dataframe = pd.concat([dataframe, pd.get_dummies(dataframe[column_name], prefix=column_name)], axis=1)\n",
    "\n",
    "    expanded_dataframe.drop([column_name], axis=1, inplace=True)\n",
    "\n",
    "    return expanded_dataframe\n",
    "\n",
    "for name in [\"workclass\", \"education\", \"marital status\", \"native country\", \"gender\", \"race\", \"occupation\", \"relationship\"]:\n",
    "    dataset = expand_category(dataset, name)"
   ]
  },
  {
   "cell_type": "code",
   "execution_count": 11,
   "metadata": {
    "scrolled": false
   },
   "outputs": [
    {
     "data": {
      "text/plain": [
       "Index(['age', 'fnlwgt', 'education num', 'capital gain', 'capital loss',\n",
       "       'hours/week', 'output', 'workclass_gov', 'workclass_other',\n",
       "       'workclass_private', 'workclass_self', 'education_10th',\n",
       "       'education_11th', 'education_12th', 'education_1st-4th',\n",
       "       'education_5th-6th', 'education_7th-8th', 'education_9th',\n",
       "       'education_Assoc-acdm', 'education_Assoc-voc', 'education_Bachelors',\n",
       "       'education_Doctorate', 'education_HS-grad', 'education_Masters',\n",
       "       'education_Preschool', 'education_Prof-school',\n",
       "       'education_Some-college', 'marital status_Divorced',\n",
       "       'marital status_Married-AF-spouse', 'marital status_Married-civ-spouse',\n",
       "       'marital status_Married-spouse-absent', 'marital status_Never-married',\n",
       "       'marital status_Separated', 'marital status_Widowed',\n",
       "       'native country_Outlying-US(Guam-USVI-etc)', 'native country_asia',\n",
       "       'native country_europe', 'native country_north_america',\n",
       "       'native country_other', 'native country_south_america', 'gender_Female',\n",
       "       'gender_Male', 'race_Amer-Indian-Eskimo', 'race_Asian-Pac-Islander',\n",
       "       'race_Black', 'race_Other', 'race_White', 'occupation_?',\n",
       "       'occupation_Adm-clerical', 'occupation_Armed-Forces',\n",
       "       'occupation_Craft-repair', 'occupation_Exec-managerial',\n",
       "       'occupation_Farming-fishing', 'occupation_Handlers-cleaners',\n",
       "       'occupation_Machine-op-inspct', 'occupation_Other-service',\n",
       "       'occupation_Priv-house-serv', 'occupation_Prof-specialty',\n",
       "       'occupation_Protective-serv', 'occupation_Sales',\n",
       "       'occupation_Tech-support', 'occupation_Transport-moving',\n",
       "       'relationship_Husband', 'relationship_Not-in-family',\n",
       "       'relationship_Other-relative', 'relationship_Own-child',\n",
       "       'relationship_Unmarried', 'relationship_Wife'],\n",
       "      dtype='object')"
      ]
     },
     "execution_count": 11,
     "metadata": {},
     "output_type": "execute_result"
    }
   ],
   "source": [
    "dataset.columns"
   ]
  },
  {
   "cell_type": "markdown",
   "metadata": {},
   "source": [
    "### Output class as 0 and 1"
   ]
  },
  {
   "cell_type": "code",
   "execution_count": 12,
   "metadata": {
    "scrolled": true
   },
   "outputs": [],
   "source": [
    "condition = dataset.loc[:, \"output\"] == \"<=50K\"\n",
    "dataset.loc[condition, \"output\"] = 0.0\n",
    "dataset.loc[np.logical_not(condition), \"output\"] = 1.0"
   ]
  },
  {
   "cell_type": "code",
   "execution_count": 13,
   "metadata": {
    "scrolled": false
   },
   "outputs": [
    {
     "data": {
      "text/html": [
       "<div>\n",
       "<style scoped>\n",
       "    .dataframe tbody tr th:only-of-type {\n",
       "        vertical-align: middle;\n",
       "    }\n",
       "\n",
       "    .dataframe tbody tr th {\n",
       "        vertical-align: top;\n",
       "    }\n",
       "\n",
       "    .dataframe thead th {\n",
       "        text-align: right;\n",
       "    }\n",
       "</style>\n",
       "<table border=\"1\" class=\"dataframe\">\n",
       "  <thead>\n",
       "    <tr style=\"text-align: right;\">\n",
       "      <th></th>\n",
       "      <th>age</th>\n",
       "      <th>fnlwgt</th>\n",
       "      <th>education num</th>\n",
       "      <th>capital gain</th>\n",
       "      <th>capital loss</th>\n",
       "      <th>hours/week</th>\n",
       "      <th>output</th>\n",
       "      <th>workclass_gov</th>\n",
       "      <th>workclass_other</th>\n",
       "      <th>workclass_private</th>\n",
       "      <th>...</th>\n",
       "      <th>occupation_Protective-serv</th>\n",
       "      <th>occupation_Sales</th>\n",
       "      <th>occupation_Tech-support</th>\n",
       "      <th>occupation_Transport-moving</th>\n",
       "      <th>relationship_Husband</th>\n",
       "      <th>relationship_Not-in-family</th>\n",
       "      <th>relationship_Other-relative</th>\n",
       "      <th>relationship_Own-child</th>\n",
       "      <th>relationship_Unmarried</th>\n",
       "      <th>relationship_Wife</th>\n",
       "    </tr>\n",
       "  </thead>\n",
       "  <tbody>\n",
       "    <tr>\n",
       "      <th>0</th>\n",
       "      <td>0.030670</td>\n",
       "      <td>-1.150280</td>\n",
       "      <td>1.134721</td>\n",
       "      <td>0.148451</td>\n",
       "      <td>-0.216656</td>\n",
       "      <td>-0.035429</td>\n",
       "      <td>0</td>\n",
       "      <td>1</td>\n",
       "      <td>0</td>\n",
       "      <td>0</td>\n",
       "      <td>...</td>\n",
       "      <td>0</td>\n",
       "      <td>0</td>\n",
       "      <td>0</td>\n",
       "      <td>0</td>\n",
       "      <td>0</td>\n",
       "      <td>1</td>\n",
       "      <td>0</td>\n",
       "      <td>0</td>\n",
       "      <td>0</td>\n",
       "      <td>0</td>\n",
       "    </tr>\n",
       "    <tr>\n",
       "      <th>1</th>\n",
       "      <td>0.837096</td>\n",
       "      <td>-1.035977</td>\n",
       "      <td>1.134721</td>\n",
       "      <td>-0.145918</td>\n",
       "      <td>-0.216656</td>\n",
       "      <td>-2.222119</td>\n",
       "      <td>0</td>\n",
       "      <td>0</td>\n",
       "      <td>0</td>\n",
       "      <td>0</td>\n",
       "      <td>...</td>\n",
       "      <td>0</td>\n",
       "      <td>0</td>\n",
       "      <td>0</td>\n",
       "      <td>0</td>\n",
       "      <td>1</td>\n",
       "      <td>0</td>\n",
       "      <td>0</td>\n",
       "      <td>0</td>\n",
       "      <td>0</td>\n",
       "      <td>0</td>\n",
       "    </tr>\n",
       "    <tr>\n",
       "      <th>2</th>\n",
       "      <td>-0.042641</td>\n",
       "      <td>0.471860</td>\n",
       "      <td>-0.420053</td>\n",
       "      <td>-0.145918</td>\n",
       "      <td>-0.216656</td>\n",
       "      <td>-0.035429</td>\n",
       "      <td>0</td>\n",
       "      <td>0</td>\n",
       "      <td>0</td>\n",
       "      <td>1</td>\n",
       "      <td>...</td>\n",
       "      <td>0</td>\n",
       "      <td>0</td>\n",
       "      <td>0</td>\n",
       "      <td>0</td>\n",
       "      <td>0</td>\n",
       "      <td>1</td>\n",
       "      <td>0</td>\n",
       "      <td>0</td>\n",
       "      <td>0</td>\n",
       "      <td>0</td>\n",
       "    </tr>\n",
       "    <tr>\n",
       "      <th>3</th>\n",
       "      <td>1.057031</td>\n",
       "      <td>0.606241</td>\n",
       "      <td>-1.197440</td>\n",
       "      <td>-0.145918</td>\n",
       "      <td>-0.216656</td>\n",
       "      <td>-0.035429</td>\n",
       "      <td>0</td>\n",
       "      <td>0</td>\n",
       "      <td>0</td>\n",
       "      <td>1</td>\n",
       "      <td>...</td>\n",
       "      <td>0</td>\n",
       "      <td>0</td>\n",
       "      <td>0</td>\n",
       "      <td>0</td>\n",
       "      <td>1</td>\n",
       "      <td>0</td>\n",
       "      <td>0</td>\n",
       "      <td>0</td>\n",
       "      <td>0</td>\n",
       "      <td>0</td>\n",
       "    </tr>\n",
       "    <tr>\n",
       "      <th>4</th>\n",
       "      <td>-0.775756</td>\n",
       "      <td>1.186286</td>\n",
       "      <td>1.134721</td>\n",
       "      <td>-0.145918</td>\n",
       "      <td>-0.216656</td>\n",
       "      <td>-0.035429</td>\n",
       "      <td>0</td>\n",
       "      <td>0</td>\n",
       "      <td>0</td>\n",
       "      <td>1</td>\n",
       "      <td>...</td>\n",
       "      <td>0</td>\n",
       "      <td>0</td>\n",
       "      <td>0</td>\n",
       "      <td>0</td>\n",
       "      <td>0</td>\n",
       "      <td>0</td>\n",
       "      <td>0</td>\n",
       "      <td>0</td>\n",
       "      <td>0</td>\n",
       "      <td>1</td>\n",
       "    </tr>\n",
       "  </tbody>\n",
       "</table>\n",
       "<p>5 rows × 68 columns</p>\n",
       "</div>"
      ],
      "text/plain": [
       "        age    fnlwgt  education num  capital gain  capital loss  hours/week  \\\n",
       "0  0.030670 -1.150280       1.134721      0.148451     -0.216656   -0.035429   \n",
       "1  0.837096 -1.035977       1.134721     -0.145918     -0.216656   -2.222119   \n",
       "2 -0.042641  0.471860      -0.420053     -0.145918     -0.216656   -0.035429   \n",
       "3  1.057031  0.606241      -1.197440     -0.145918     -0.216656   -0.035429   \n",
       "4 -0.775756  1.186286       1.134721     -0.145918     -0.216656   -0.035429   \n",
       "\n",
       "   output  workclass_gov  workclass_other  workclass_private  ...  \\\n",
       "0       0              1                0                  0  ...   \n",
       "1       0              0                0                  0  ...   \n",
       "2       0              0                0                  1  ...   \n",
       "3       0              0                0                  1  ...   \n",
       "4       0              0                0                  1  ...   \n",
       "\n",
       "   occupation_Protective-serv  occupation_Sales  occupation_Tech-support  \\\n",
       "0                           0                 0                        0   \n",
       "1                           0                 0                        0   \n",
       "2                           0                 0                        0   \n",
       "3                           0                 0                        0   \n",
       "4                           0                 0                        0   \n",
       "\n",
       "   occupation_Transport-moving  relationship_Husband  \\\n",
       "0                            0                     0   \n",
       "1                            0                     1   \n",
       "2                            0                     0   \n",
       "3                            0                     1   \n",
       "4                            0                     0   \n",
       "\n",
       "   relationship_Not-in-family  relationship_Other-relative  \\\n",
       "0                           1                            0   \n",
       "1                           0                            0   \n",
       "2                           1                            0   \n",
       "3                           0                            0   \n",
       "4                           0                            0   \n",
       "\n",
       "   relationship_Own-child  relationship_Unmarried  relationship_Wife  \n",
       "0                       0                       0                  0  \n",
       "1                       0                       0                  0  \n",
       "2                       0                       0                  0  \n",
       "3                       0                       0                  0  \n",
       "4                       0                       0                  1  \n",
       "\n",
       "[5 rows x 68 columns]"
      ]
     },
     "execution_count": 13,
     "metadata": {},
     "output_type": "execute_result"
    }
   ],
   "source": [
    "inputs = dataset.drop([\"output\"], axis=1)\n",
    "\n",
    "outputs = dataset[\"output\"]\n",
    "\n",
    "dataset.head(5)"
   ]
  },
  {
   "cell_type": "code",
   "execution_count": 51,
   "metadata": {
    "scrolled": false
   },
   "outputs": [
    {
     "name": "stdout",
     "output_type": "stream",
     "text": [
      "Train on 29260 samples, validate on 3301 samples\n",
      "Epoch 1/50\n",
      "29260/29260 [==============================] - 2s 55us/sample - loss: 0.3525 - auc_29: 0.8849 - val_loss: 0.2977 - val_auc_29: 0.9129\n",
      "Epoch 2/50\n",
      "29260/29260 [==============================] - 0s 17us/sample - loss: 0.3202 - auc_29: 0.9066 - val_loss: 0.3027 - val_auc_29: 0.9129\n",
      "Epoch 3/50\n",
      "29260/29260 [==============================] - 0s 16us/sample - loss: 0.3167 - auc_29: 0.9086 - val_loss: 0.3034 - val_auc_29: 0.9106\n",
      "Epoch 4/50\n",
      "29260/29260 [==============================] - 0s 16us/sample - loss: 0.3122 - auc_29: 0.9112 - val_loss: 0.2997 - val_auc_29: 0.9110\n",
      "Epoch 5/50\n",
      "29260/29260 [==============================] - 0s 16us/sample - loss: 0.3102 - auc_29: 0.9124 - val_loss: 0.2935 - val_auc_29: 0.9150\n",
      "Epoch 6/50\n",
      "29260/29260 [==============================] - 0s 15us/sample - loss: 0.3076 - auc_29: 0.9139 - val_loss: 0.2952 - val_auc_29: 0.9144\n",
      "Epoch 7/50\n",
      "29260/29260 [==============================] - 0s 16us/sample - loss: 0.3057 - auc_29: 0.9148 - val_loss: 0.2933 - val_auc_29: 0.9148\n",
      "Epoch 8/50\n",
      "29260/29260 [==============================] - 1s 18us/sample - loss: 0.3033 - auc_29: 0.9163 - val_loss: 0.2942 - val_auc_29: 0.9137\n",
      "Epoch 9/50\n",
      "29260/29260 [==============================] - 0s 14us/sample - loss: 0.3019 - auc_29: 0.9171 - val_loss: 0.2932 - val_auc_29: 0.9153\n",
      "Epoch 10/50\n",
      "29260/29260 [==============================] - 0s 16us/sample - loss: 0.3003 - auc_29: 0.9181 - val_loss: 0.2954 - val_auc_29: 0.9142\n",
      "Epoch 11/50\n",
      "29260/29260 [==============================] - 0s 16us/sample - loss: 0.2985 - auc_29: 0.9190 - val_loss: 0.2943 - val_auc_29: 0.9136\n",
      "Epoch 12/50\n",
      "29260/29260 [==============================] - 0s 16us/sample - loss: 0.2976 - auc_29: 0.9196 - val_loss: 0.2925 - val_auc_29: 0.9150\n",
      "Epoch 13/50\n",
      "29260/29260 [==============================] - 0s 16us/sample - loss: 0.2959 - auc_29: 0.9205 - val_loss: 0.2943 - val_auc_29: 0.9144\n",
      "Epoch 14/50\n",
      "29260/29260 [==============================] - 0s 15us/sample - loss: 0.2960 - auc_29: 0.9203 - val_loss: 0.2924 - val_auc_29: 0.9146\n",
      "Epoch 15/50\n",
      "29260/29260 [==============================] - 0s 14us/sample - loss: 0.2935 - auc_29: 0.9219 - val_loss: 0.2988 - val_auc_29: 0.9116\n",
      "Epoch 16/50\n",
      "29260/29260 [==============================] - 0s 16us/sample - loss: 0.2931 - auc_29: 0.9220 - val_loss: 0.2919 - val_auc_29: 0.9151\n",
      "Epoch 17/50\n",
      "29260/29260 [==============================] - 1s 17us/sample - loss: 0.2923 - auc_29: 0.9224 - val_loss: 0.2949 - val_auc_29: 0.9137\n",
      "Epoch 18/50\n",
      "29260/29260 [==============================] - 0s 17us/sample - loss: 0.2915 - auc_29: 0.9228 - val_loss: 0.2944 - val_auc_29: 0.9144\n",
      "Epoch 19/50\n",
      "29260/29260 [==============================] - 0s 16us/sample - loss: 0.2906 - auc_29: 0.9235 - val_loss: 0.2975 - val_auc_29: 0.9112\n",
      "Epoch 20/50\n",
      "29260/29260 [==============================] - 0s 16us/sample - loss: 0.2899 - auc_29: 0.9239 - val_loss: 0.2959 - val_auc_29: 0.9130\n",
      "Epoch 21/50\n",
      "29260/29260 [==============================] - 0s 17us/sample - loss: 0.2885 - auc_29: 0.9246 - val_loss: 0.2996 - val_auc_29: 0.9127\n",
      "Epoch 22/50\n",
      "29260/29260 [==============================] - 1s 17us/sample - loss: 0.2868 - auc_29: 0.9254 - val_loss: 0.2959 - val_auc_29: 0.9138\n",
      "Epoch 23/50\n",
      "29260/29260 [==============================] - 1s 19us/sample - loss: 0.2852 - auc_29: 0.9262 - val_loss: 0.2953 - val_auc_29: 0.9122\n",
      "Epoch 24/50\n",
      "29260/29260 [==============================] - 0s 16us/sample - loss: 0.2842 - auc_29: 0.9268 - val_loss: 0.3002 - val_auc_29: 0.9119\n",
      "Epoch 25/50\n",
      "29260/29260 [==============================] - 0s 15us/sample - loss: 0.2838 - auc_29: 0.9271 - val_loss: 0.2952 - val_auc_29: 0.9133\n",
      "Epoch 26/50\n",
      "29260/29260 [==============================] - 0s 16us/sample - loss: 0.2826 - auc_29: 0.9276 - val_loss: 0.2988 - val_auc_29: 0.9123\n",
      "[[0.5672699 ]\n",
      " [0.83466876]\n",
      " [0.92695385]\n",
      " ...\n",
      " [0.07971731]\n",
      " [0.07304411]\n",
      " [0.01557716]]\n",
      "[[1.]\n",
      " [1.]\n",
      " [1.]\n",
      " ...\n",
      " [0.]\n",
      " [0.]\n",
      " [0.]]\n"
     ]
    }
   ],
   "source": [
    "def build(output_size):\n",
    "    model = models.Sequential()\n",
    "    model.add(layers.Dense(units=50, activation=activations.tanh))\n",
    "    model.add(layers.Dense(units=output_size, activation=activations.sigmoid))\n",
    "\n",
    "    model.compile(loss='binary_crossentropy',\n",
    "                  metrics=[metrics.AUC()],\n",
    "                  optimizer=optimizers.Adam(learning_rate=0.01, beta_1=0.9))\n",
    "\n",
    "    return model\n",
    "\n",
    "def fit(epochs, batch_size, inputs, outputs, validation_inputs, validation_outputs):\n",
    "    model.fit(inputs, outputs,\n",
    "              callbacks=[callbacks.EarlyStopping(mode=\"min\", patience=10, restore_best_weights=True, monitor=\"val_loss\")],\n",
    "              validation_data=(validation_inputs, validation_outputs),\n",
    "              batch_size=batch_size,\n",
    "              epochs=epochs)\n",
    "\n",
    "epochs = 50\n",
    "batch_size = 500\n",
    "\n",
    "inputs = dataset.drop([\"output\"], axis=1).to_numpy(dtype=np.float32)\n",
    "outputs = dataset[\"output\"].to_numpy(dtype=np.float32)\n",
    "outputs = np.expand_dims(outputs, 1)\n",
    "\n",
    "\n",
    "over_mask = np.reshape(outputs == 1, (-1))\n",
    "\n",
    "inputs_over = inputs[over_mask]\n",
    "outputs_over = outputs[over_mask]\n",
    "inputs_notover = inputs[np.logical_not(over_mask)]\n",
    "outputs_notover = outputs[np.logical_not(over_mask)]\n",
    "\n",
    "mask_over = np.random.random(inputs_over.shape[0]) > 0.1\n",
    "mask_notover = np.random.random(inputs_notover.shape[0]) > 0.1\n",
    "\n",
    "train_inputs_over = inputs_over[mask_over]\n",
    "train_inputs_notover = inputs_notover[mask_notover]\n",
    "train_outputs_over = outputs_over[mask_over]\n",
    "train_outputs_notover = outputs_notover[mask_notover]\n",
    "validation_inputs_over = inputs_over[np.logical_not(mask_over)]\n",
    "validation_inputs_notover = inputs_notover[np.logical_not(mask_notover)]\n",
    "validation_outputs_over = outputs_over[np.logical_not(mask_over)]\n",
    "validation_outputs_notover = outputs_notover[np.logical_not(mask_notover)]\n",
    "\n",
    "train_inputs = np.vstack((train_inputs_over, train_inputs_notover))\n",
    "train_outputs = np.vstack((train_outputs_over, train_outputs_notover))\n",
    "validation_inputs = np.vstack((validation_inputs_over, validation_inputs_notover))\n",
    "validation_outputs = np.vstack((validation_outputs_over, validation_outputs_notover))\n",
    "\n",
    "np.save(\"./inputs\", inputs)\n",
    "np.save(\"./outputs\", outputs)\n",
    "\n",
    "model = build(outputs.shape[1])\n",
    "\n",
    "fit(epochs, batch_size, train_inputs, train_outputs, validation_inputs, validation_outputs)\n",
    "\n",
    "print(model.predict(validation_inputs))\n",
    "print(validation_outputs)"
   ]
  }
 ],
 "metadata": {
  "kernelspec": {
   "display_name": "Python 3",
   "language": "python",
   "name": "python3"
  },
  "language_info": {
   "codemirror_mode": {
    "name": "ipython",
    "version": 3
   },
   "file_extension": ".py",
   "mimetype": "text/x-python",
   "name": "python",
   "nbconvert_exporter": "python",
   "pygments_lexer": "ipython3",
   "version": "3.6.8"
  }
 },
 "nbformat": 4,
 "nbformat_minor": 2
}
