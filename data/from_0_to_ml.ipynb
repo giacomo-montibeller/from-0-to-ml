{
 "cells": [
  {
   "cell_type": "markdown",
   "metadata": {},
   "source": [
    "# From 0 to machine learning - Let's try an example with real data"
   ]
  },
  {
   "cell_type": "markdown",
   "metadata": {},
   "source": [
    "## Aim of the project\n",
    "\n",
    "We are gonna use this dataset: https://www.kaggle.com/johnolafenwa/us-census-data.\n",
    "\n",
    "We want to predict the income of a person (the records of the dataset are labeled by the last column \"income bracket\").\n",
    "\n",
    "Start importing the required libraries."
   ]
  },
  {
   "cell_type": "code",
   "execution_count": 1,
   "metadata": {},
   "outputs": [],
   "source": [
    "import numpy as np\n",
    "import pandas as pd\n",
    "import matplotlib.pyplot as plt\n",
    "import seaborn as sns\n",
    "from tensorflow.keras import models, activations, layers, metrics, optimizers, regularizers, callbacks\n",
    "\n",
    "pd.set_option('display.max_rows', 500)\n",
    "pd.set_option('display.max_columns', 500)"
   ]
  },
  {
   "cell_type": "markdown",
   "metadata": {},
   "source": [
    "## Import dataset and show the first rows\n",
    "So you can have an idea of what the dataset we are using contains."
   ]
  },
  {
   "cell_type": "code",
   "execution_count": 2,
   "metadata": {
    "scrolled": true
   },
   "outputs": [
    {
     "data": {
      "text/html": [
       "<div>\n",
       "<style scoped>\n",
       "    .dataframe tbody tr th:only-of-type {\n",
       "        vertical-align: middle;\n",
       "    }\n",
       "\n",
       "    .dataframe tbody tr th {\n",
       "        vertical-align: top;\n",
       "    }\n",
       "\n",
       "    .dataframe thead th {\n",
       "        text-align: right;\n",
       "    }\n",
       "</style>\n",
       "<table border=\"1\" class=\"dataframe\">\n",
       "  <thead>\n",
       "    <tr style=\"text-align: right;\">\n",
       "      <th></th>\n",
       "      <th>age</th>\n",
       "      <th>workclass</th>\n",
       "      <th>fnlwgt</th>\n",
       "      <th>education</th>\n",
       "      <th>education num</th>\n",
       "      <th>marital status</th>\n",
       "      <th>occupation</th>\n",
       "      <th>relationship</th>\n",
       "      <th>race</th>\n",
       "      <th>m_f</th>\n",
       "      <th>capital gain</th>\n",
       "      <th>capital loss</th>\n",
       "      <th>hours/week</th>\n",
       "      <th>native country</th>\n",
       "      <th>income bracket</th>\n",
       "    </tr>\n",
       "  </thead>\n",
       "  <tbody>\n",
       "    <tr>\n",
       "      <th>0</th>\n",
       "      <td>39</td>\n",
       "      <td>State-gov</td>\n",
       "      <td>77516</td>\n",
       "      <td>Bachelors</td>\n",
       "      <td>13</td>\n",
       "      <td>Never-married</td>\n",
       "      <td>Adm-clerical</td>\n",
       "      <td>Not-in-family</td>\n",
       "      <td>White</td>\n",
       "      <td>Male</td>\n",
       "      <td>2174</td>\n",
       "      <td>0</td>\n",
       "      <td>40</td>\n",
       "      <td>United-States</td>\n",
       "      <td>&lt;=50K</td>\n",
       "    </tr>\n",
       "    <tr>\n",
       "      <th>1</th>\n",
       "      <td>50</td>\n",
       "      <td>Self-emp-not-inc</td>\n",
       "      <td>83311</td>\n",
       "      <td>Bachelors</td>\n",
       "      <td>13</td>\n",
       "      <td>Married-civ-spouse</td>\n",
       "      <td>Exec-managerial</td>\n",
       "      <td>Husband</td>\n",
       "      <td>White</td>\n",
       "      <td>Male</td>\n",
       "      <td>0</td>\n",
       "      <td>0</td>\n",
       "      <td>13</td>\n",
       "      <td>United-States</td>\n",
       "      <td>&lt;=50K</td>\n",
       "    </tr>\n",
       "    <tr>\n",
       "      <th>2</th>\n",
       "      <td>38</td>\n",
       "      <td>Private</td>\n",
       "      <td>215646</td>\n",
       "      <td>HS-grad</td>\n",
       "      <td>9</td>\n",
       "      <td>Divorced</td>\n",
       "      <td>Handlers-cleaners</td>\n",
       "      <td>Not-in-family</td>\n",
       "      <td>White</td>\n",
       "      <td>Male</td>\n",
       "      <td>0</td>\n",
       "      <td>0</td>\n",
       "      <td>40</td>\n",
       "      <td>United-States</td>\n",
       "      <td>&lt;=50K</td>\n",
       "    </tr>\n",
       "    <tr>\n",
       "      <th>3</th>\n",
       "      <td>53</td>\n",
       "      <td>Private</td>\n",
       "      <td>234721</td>\n",
       "      <td>11th</td>\n",
       "      <td>7</td>\n",
       "      <td>Married-civ-spouse</td>\n",
       "      <td>Handlers-cleaners</td>\n",
       "      <td>Husband</td>\n",
       "      <td>Black</td>\n",
       "      <td>Male</td>\n",
       "      <td>0</td>\n",
       "      <td>0</td>\n",
       "      <td>40</td>\n",
       "      <td>United-States</td>\n",
       "      <td>&lt;=50K</td>\n",
       "    </tr>\n",
       "    <tr>\n",
       "      <th>4</th>\n",
       "      <td>28</td>\n",
       "      <td>Private</td>\n",
       "      <td>338409</td>\n",
       "      <td>Bachelors</td>\n",
       "      <td>13</td>\n",
       "      <td>Married-civ-spouse</td>\n",
       "      <td>Prof-specialty</td>\n",
       "      <td>Wife</td>\n",
       "      <td>Black</td>\n",
       "      <td>Female</td>\n",
       "      <td>0</td>\n",
       "      <td>0</td>\n",
       "      <td>40</td>\n",
       "      <td>Cuba</td>\n",
       "      <td>&lt;=50K</td>\n",
       "    </tr>\n",
       "  </tbody>\n",
       "</table>\n",
       "</div>"
      ],
      "text/plain": [
       "   age         workclass  fnlwgt  education  education num  \\\n",
       "0   39         State-gov   77516  Bachelors             13   \n",
       "1   50  Self-emp-not-inc   83311  Bachelors             13   \n",
       "2   38           Private  215646    HS-grad              9   \n",
       "3   53           Private  234721       11th              7   \n",
       "4   28           Private  338409  Bachelors             13   \n",
       "\n",
       "       marital status         occupation   relationship   race     m_f  \\\n",
       "0       Never-married       Adm-clerical  Not-in-family  White    Male   \n",
       "1  Married-civ-spouse    Exec-managerial        Husband  White    Male   \n",
       "2            Divorced  Handlers-cleaners  Not-in-family  White    Male   \n",
       "3  Married-civ-spouse  Handlers-cleaners        Husband  Black    Male   \n",
       "4  Married-civ-spouse     Prof-specialty           Wife  Black  Female   \n",
       "\n",
       "   capital gain  capital loss  hours/week native country income bracket  \n",
       "0          2174             0          40  United-States          <=50K  \n",
       "1             0             0          13  United-States          <=50K  \n",
       "2             0             0          40  United-States          <=50K  \n",
       "3             0             0          40  United-States          <=50K  \n",
       "4             0             0          40           Cuba          <=50K  "
      ]
     },
     "execution_count": 2,
     "metadata": {},
     "output_type": "execute_result"
    }
   ],
   "source": [
    "dataset = pd.read_csv(\"income.csv\", header=0, skipinitialspace=True)\n",
    "del dataset['Unnamed: 0']\n",
    "dataset.head()"
   ]
  },
  {
   "cell_type": "code",
   "execution_count": 3,
   "metadata": {},
   "outputs": [
    {
     "name": "stdout",
     "output_type": "stream",
     "text": [
      "<class 'pandas.core.frame.DataFrame'>\n",
      "RangeIndex: 32561 entries, 0 to 32560\n",
      "Data columns (total 15 columns):\n",
      "age               32561 non-null int64\n",
      "workclass         32561 non-null object\n",
      "fnlwgt            32561 non-null int64\n",
      "education         32561 non-null object\n",
      "education num     32561 non-null int64\n",
      "marital status    32561 non-null object\n",
      "occupation        32561 non-null object\n",
      "relationship      32561 non-null object\n",
      "race              32561 non-null object\n",
      "m_f               32561 non-null object\n",
      "capital gain      32561 non-null int64\n",
      "capital loss      32561 non-null int64\n",
      "hours/week        32561 non-null int64\n",
      "native country    32561 non-null object\n",
      "income bracket    32561 non-null object\n",
      "dtypes: int64(6), object(9)\n",
      "memory usage: 3.7+ MB\n"
     ]
    }
   ],
   "source": [
    "dataset.info()"
   ]
  },
  {
   "cell_type": "markdown",
   "metadata": {},
   "source": [
    "## Analize the dataset"
   ]
  },
  {
   "cell_type": "markdown",
   "metadata": {},
   "source": [
    "We find that the label for the row is the last column, the one that classify the income in two classes (more or less than 50k/year)."
   ]
  },
  {
   "cell_type": "markdown",
   "metadata": {},
   "source": [
    "### Rename columns\n",
    "\n",
    "We see that we have some column names that doesn't describe what they contains."
   ]
  },
  {
   "cell_type": "code",
   "execution_count": 4,
   "metadata": {},
   "outputs": [],
   "source": [
    "dataset.rename(columns={\"m_f\": 'gender', \"income bracket\": \"output\"}, inplace=True)"
   ]
  },
  {
   "cell_type": "markdown",
   "metadata": {},
   "source": [
    "### Output class\n",
    "\n",
    "Let's see how the data is distributed."
   ]
  },
  {
   "cell_type": "code",
   "execution_count": 5,
   "metadata": {
    "scrolled": true
   },
   "outputs": [
    {
     "name": "stdout",
     "output_type": "stream",
     "text": [
      "output\n",
      "<=50K    75.919044\n",
      ">50K     24.080956\n",
      "dtype: float64\n"
     ]
    },
    {
     "data": {
      "image/png": "[encoded data removed]",
      "text/plain": [
       "<Figure size 432x288 with 1 Axes>"
      ]
     },
     "metadata": {
      "needs_background": "light"
     },
     "output_type": "display_data"
    }
   ],
   "source": [
    "print((dataset.groupby('output').size() / dataset['output'].count()) * 100)\n",
    "\n",
    "sns.countplot(x=\"output\", data=dataset)\n",
    "plt.show()"
   ]
  },
  {
   "cell_type": "markdown",
   "metadata": {},
   "source": [
    "This distribution means that an algorithm that always predicts `<=50K` is right at ~76%, so if we can't do better there is no meaning in using ML for this particular problem."
   ]
  },
  {
   "cell_type": "code",
   "execution_count": 6,
   "metadata": {},
   "outputs": [],
   "source": [
    "condition = dataset.loc[:, \"output\"] == \"<=50K\"\n",
    "dataset.loc[condition, \"output\"] = 0.0\n",
    "dataset.loc[np.logical_not(condition), \"output\"] = 1.0"
   ]
  },
  {
   "cell_type": "markdown",
   "metadata": {},
   "source": [
    "### Look for bad data\n",
    "Aim here is to find bad data such as typos and correct them."
   ]
  },
  {
   "cell_type": "code",
   "execution_count": 7,
   "metadata": {
    "scrolled": true
   },
   "outputs": [
    {
     "data": {
      "text/plain": [
       "race\n",
       "Amer-Indian-Eskimo      311\n",
       "Asian-Pac-Islander     1039\n",
       "Black                  3124\n",
       "Other                   271\n",
       "White                 27527\n",
       "Wite                    289\n",
       "Name: race, dtype: int64"
      ]
     },
     "execution_count": 7,
     "metadata": {},
     "output_type": "execute_result"
    }
   ],
   "source": [
    "dataset.groupby([\"race\"])[\"race\"].count()"
   ]
  },
  {
   "cell_type": "code",
   "execution_count": 8,
   "metadata": {
    "scrolled": true
   },
   "outputs": [
    {
     "data": {
      "text/plain": [
       "race\n",
       "Amer-Indian-Eskimo      311\n",
       "Asian-Pac-Islander     1039\n",
       "Black                  3124\n",
       "Other                   271\n",
       "White                 27816\n",
       "Name: race, dtype: int64"
      ]
     },
     "execution_count": 8,
     "metadata": {},
     "output_type": "execute_result"
    }
   ],
   "source": [
    "condition = dataset.loc[:, \"race\"] == \"Wite\"\n",
    "dataset.loc[condition, \"race\"] = \"White\"\n",
    "dataset.groupby([\"race\"])[\"race\"].count()"
   ]
  },
  {
   "cell_type": "markdown",
   "metadata": {},
   "source": [
    "Aggregate similar data to reduce feature dimension"
   ]
  },
  {
   "cell_type": "code",
   "execution_count": 9,
   "metadata": {
    "scrolled": false
   },
   "outputs": [
    {
     "data": {
      "image/png": "[encoded data removed]",
      "text/plain": [
       "<Figure size 432x288 with 1 Axes>"
      ]
     },
     "metadata": {
      "needs_background": "light"
     },
     "output_type": "display_data"
    }
   ],
   "source": [
    "sns.countplot(x=\"workclass\", data=dataset)\n",
    "plt.xticks(rotation=45)\n",
    "plt.show()"
   ]
  },
  {
   "cell_type": "code",
   "execution_count": 10,
   "metadata": {},
   "outputs": [
    {
     "data": {
      "image/png": "[encoded data removed]",
      "text/plain": [
       "<Figure size 432x288 with 1 Axes>"
      ]
     },
     "metadata": {
      "needs_background": "light"
     },
     "output_type": "display_data"
    }
   ],
   "source": [
    "def replace_on_condition(dataset, column_name, condition_value, replace_value):\n",
    "    condition = dataset.loc[:, column_name].str.contains(condition_value)\n",
    "    dataset.loc[condition, column_name] = replace_value\n",
    "    \n",
    "    return dataset\n",
    "    \n",
    "dataset = replace_on_condition(dataset, \"workclass\", \"Private\", \"private\")\n",
    "dataset = replace_on_condition(dataset, \"workclass\", \"Self\", \"self\")\n",
    "dataset = replace_on_condition(dataset, \"workclass\", \"gov\", \"gov\")\n",
    "dataset = replace_on_condition(dataset, \"workclass\", \"Without\", \"other\")\n",
    "dataset = replace_on_condition(dataset, \"workclass\", \"Never\", \"other\")\n",
    "dataset = replace_on_condition(dataset, \"workclass\", \"\\?\", \"other\")\n",
    "\n",
    "sns.countplot(x=\"workclass\", data=dataset)\n",
    "plt.xticks(rotation=45)\n",
    "plt.show()"
   ]
  },
  {
   "cell_type": "code",
   "execution_count": 11,
   "metadata": {},
   "outputs": [
    {
     "data": {
      "image/png": "[encoded data removed]",
      "text/plain": [
       "<Figure size 432x288 with 1 Axes>"
      ]
     },
     "metadata": {
      "needs_background": "light"
     },
     "output_type": "display_data"
    }
   ],
   "source": [
    "sns.countplot(x=\"native country\", data=dataset)\n",
    "plt.xticks(rotation=90)\n",
    "plt.show()"
   ]
  },
  {
   "cell_type": "code",
   "execution_count": 12,
   "metadata": {
    "scrolled": true
   },
   "outputs": [
    {
     "name": "stderr",
     "output_type": "stream",
     "text": [
      "/usr/local/lib/python3.6/dist-packages/pandas/core/strings.py:1843: UserWarning: This pattern has match groups. To actually get the groups, use str.extract.\n",
      "  return func(self, *args, **kwargs)\n"
     ]
    },
    {
     "data": {
      "image/png": "[encoded data removed]",
      "text/plain": [
       "<Figure size 432x288 with 1 Axes>"
      ]
     },
     "metadata": {
      "needs_background": "light"
     },
     "output_type": "display_data"
    }
   ],
   "source": [
    "north_america = ['United-States', 'Cuba', 'Jamaica', 'Mexico', 'Honduras', 'Canada', 'Puerto-Rico', 'Outlying']\n",
    "south_america = ['South', 'Philippines', 'Columbia', 'Cambodia', 'Ecuador', 'Haiti', 'Dominican-Republic', 'El-Salvador', 'Guatemala', 'Peru', 'Outlying-US(Guam-USVI-etc)', 'Trinadad&Tobago', 'Nicaragua']\n",
    "asia = ['India', 'Iran', 'Thailand', 'Laos', 'Taiwan', 'China', 'Japan', 'Vietnam', 'Hong']\n",
    "europe = ['England', 'Germany', 'Italy', 'Poland', 'Portugal', 'France', 'Yugoslavia', 'Scotland', 'Greece', 'Ireland', 'Hungary', 'Holand-Netherlands']\n",
    "other = ['\\?']\n",
    "\n",
    "def replace_native_country(dataset, values, replacement):\n",
    "    for value in values:\n",
    "        dataset = replace_on_condition(dataset, \"native country\", value, replacement)\n",
    "    \n",
    "    return dataset\n",
    "\n",
    "dataset = replace_native_country(dataset, north_america, \"north_america\")\n",
    "dataset = replace_native_country(dataset, south_america, \"south_america\")\n",
    "dataset = replace_native_country(dataset, asia, \"asia\")\n",
    "dataset = replace_native_country(dataset, europe, \"europe\")\n",
    "dataset = replace_native_country(dataset, other, \"other\")\n",
    "\n",
    "sns.countplot(x=\"native country\", data=dataset)\n",
    "plt.xticks(rotation=90)\n",
    "plt.show()"
   ]
  },
  {
   "cell_type": "code",
   "execution_count": 13,
   "metadata": {
    "scrolled": false
   },
   "outputs": [
    {
     "data": {
      "image/png": "[encoded data removed]",
      "text/plain": [
       "<Figure size 432x288 with 1 Axes>"
      ]
     },
     "metadata": {
      "needs_background": "light"
     },
     "output_type": "display_data"
    }
   ],
   "source": [
    "plt.xticks(rotation=90)\n",
    "plt.hist(dataset[\"fnlwgt\"])\n",
    "plt.show()"
   ]
  },
  {
   "cell_type": "code",
   "execution_count": 14,
   "metadata": {
    "scrolled": false
   },
   "outputs": [
    {
     "data": {
      "image/png": "[encoded data removed]",
      "text/plain": [
       "<Figure size 432x288 with 1 Axes>"
      ]
     },
     "metadata": {
      "needs_background": "light"
     },
     "output_type": "display_data"
    }
   ],
   "source": [
    "dataset[\"fnlwgt\"] = np.log1p(dataset[\"fnlwgt\"])\n",
    "\n",
    "plt.hist(dataset[\"fnlwgt\"])\n",
    "plt.show()"
   ]
  },
  {
   "cell_type": "markdown",
   "metadata": {},
   "source": [
    "### Standardization\n",
    "\n",
    "We standardize numerical values to have all in the same range."
   ]
  },
  {
   "cell_type": "code",
   "execution_count": 15,
   "metadata": {},
   "outputs": [
    {
     "name": "stdout",
     "output_type": "stream",
     "text": [
      "        age    fnlwgt  capital gain  capital loss  education num  hours/week\n",
      "0  0.030670 -1.150280      0.148451     -0.216656       1.134721   -0.035429\n",
      "1  0.837096 -1.035977     -0.145918     -0.216656       1.134721   -2.222119\n",
      "2 -0.042641  0.471860     -0.145918     -0.216656      -0.420053   -0.035429\n",
      "3  1.057031  0.606241     -0.145918     -0.216656      -1.197440   -0.035429\n",
      "4 -0.775756  1.186286     -0.145918     -0.216656       1.134721   -0.035429\n"
     ]
    },
    {
     "data": {
      "image/png": "[encoded data removed]",
      "text/plain": [
       "<Figure size 432x288 with 1 Axes>"
      ]
     },
     "metadata": {
      "needs_background": "light"
     },
     "output_type": "display_data"
    }
   ],
   "source": [
    "def standardize_number(dataframe, column_name):\n",
    "    return (dataframe[column_name] - dataframe[column_name].mean()) / dataframe[column_name].std()\n",
    "\n",
    "numerical_columns = [\"age\", \"fnlwgt\", \"capital gain\", \"capital loss\", \"education num\", \"hours/week\"]\n",
    "\n",
    "for name in numerical_columns:\n",
    "    dataset[name] = standardize_number(dataset, name)\n",
    "    \n",
    "print(dataset.loc[:, numerical_columns].head())\n",
    "\n",
    "plt.hist(dataset[\"fnlwgt\"])\n",
    "plt.show()"
   ]
  },
  {
   "cell_type": "markdown",
   "metadata": {},
   "source": [
    "### Expand categorical data\n",
    "Aim here is to expand a categorical feature with finite values into more features."
   ]
  },
  {
   "cell_type": "code",
   "execution_count": 16,
   "metadata": {},
   "outputs": [],
   "source": [
    "def expand_category(dataframe, column_name):\n",
    "    expanded_dataframe = pd.concat([dataframe, pd.get_dummies(dataframe[column_name], prefix=column_name)], axis=1)\n",
    "\n",
    "    expanded_dataframe.drop([column_name], axis=1, inplace=True)\n",
    "\n",
    "    return expanded_dataframe\n",
    "\n",
    "for name in [\"workclass\", \"education\", \"marital status\", \"native country\", \"gender\", \"race\", \"occupation\", \"relationship\"]:\n",
    "    dataset = expand_category(dataset, name)"
   ]
  },
  {
   "cell_type": "code",
   "execution_count": 17,
   "metadata": {
    "scrolled": false
   },
   "outputs": [
    {
     "data": {
      "text/plain": [
       "Index(['age', 'fnlwgt', 'education num', 'capital gain', 'capital loss',\n",
       "       'hours/week', 'output', 'workclass_gov', 'workclass_other',\n",
       "       'workclass_private', 'workclass_self', 'education_10th',\n",
       "       'education_11th', 'education_12th', 'education_1st-4th',\n",
       "       'education_5th-6th', 'education_7th-8th', 'education_9th',\n",
       "       'education_Assoc-acdm', 'education_Assoc-voc', 'education_Bachelors',\n",
       "       'education_Doctorate', 'education_HS-grad', 'education_Masters',\n",
       "       'education_Preschool', 'education_Prof-school',\n",
       "       'education_Some-college', 'marital status_Divorced',\n",
       "       'marital status_Married-AF-spouse', 'marital status_Married-civ-spouse',\n",
       "       'marital status_Married-spouse-absent', 'marital status_Never-married',\n",
       "       'marital status_Separated', 'marital status_Widowed',\n",
       "       'native country_asia', 'native country_europe',\n",
       "       'native country_north_america', 'native country_other',\n",
       "       'native country_south_america', 'gender_Female', 'gender_Male',\n",
       "       'race_Amer-Indian-Eskimo', 'race_Asian-Pac-Islander', 'race_Black',\n",
       "       'race_Other', 'race_White', 'occupation_?', 'occupation_Adm-clerical',\n",
       "       'occupation_Armed-Forces', 'occupation_Craft-repair',\n",
       "       'occupation_Exec-managerial', 'occupation_Farming-fishing',\n",
       "       'occupation_Handlers-cleaners', 'occupation_Machine-op-inspct',\n",
       "       'occupation_Other-service', 'occupation_Priv-house-serv',\n",
       "       'occupation_Prof-specialty', 'occupation_Protective-serv',\n",
       "       'occupation_Sales', 'occupation_Tech-support',\n",
       "       'occupation_Transport-moving', 'relationship_Husband',\n",
       "       'relationship_Not-in-family', 'relationship_Other-relative',\n",
       "       'relationship_Own-child', 'relationship_Unmarried',\n",
       "       'relationship_Wife'],\n",
       "      dtype='object')"
      ]
     },
     "execution_count": 17,
     "metadata": {},
     "output_type": "execute_result"
    }
   ],
   "source": [
    "dataset.columns"
   ]
  },
  {
   "cell_type": "code",
   "execution_count": 18,
   "metadata": {
    "scrolled": false
   },
   "outputs": [],
   "source": [
    "inputs = dataset.drop([\"output\"], axis=1).to_numpy(dtype=np.float32)\n",
    "outputs = dataset[\"output\"].to_numpy(dtype=np.float32)\n",
    "outputs = np.expand_dims(outputs, 1)\n",
    "\n",
    "def unison_shuffled_copies(a, b):\n",
    "    assert len(a) == len(b)\n",
    "    p = np.random.permutation(len(a))\n",
    "    return a[p], b[p]\n",
    "\n",
    "inputs, outputs = unison_shuffled_copies(inputs, outputs)\n",
    "\n",
    "split_index = int(outputs.shape[0] * 0.1)\n",
    "\n",
    "train_inputs = inputs[:split_index]\n",
    "train_outputs = outputs[:split_index]\n",
    "validation_inputs = inputs[split_index:]\n",
    "validation_outputs = outputs[split_index:]"
   ]
  },
  {
   "cell_type": "code",
   "execution_count": 19,
   "metadata": {},
   "outputs": [
    {
     "name": "stdout",
     "output_type": "stream",
     "text": [
      "Train on 3256 samples, validate on 29305 samples\n",
      "Epoch 1/500\n",
      "3256/3256 [==============================] - 1s 200us/sample - loss: 0.5935 - val_loss: 0.5419\n",
      "Epoch 2/500\n",
      "3256/3256 [==============================] - 0s 63us/sample - loss: 0.5154 - val_loss: 0.4878\n",
      "Epoch 3/500\n",
      "3256/3256 [==============================] - 0s 68us/sample - loss: 0.4701 - val_loss: 0.4540\n",
      "Epoch 4/500\n",
      "3256/3256 [==============================] - 0s 82us/sample - loss: 0.4399 - val_loss: 0.4303\n",
      "Epoch 5/500\n",
      "3256/3256 [==============================] - 0s 71us/sample - loss: 0.4180 - val_loss: 0.4123\n",
      "Epoch 6/500\n",
      "3256/3256 [==============================] - 0s 51us/sample - loss: 0.4020 - val_loss: 0.3984\n",
      "Epoch 7/500\n",
      "3256/3256 [==============================] - 0s 46us/sample - loss: 0.3893 - val_loss: 0.3878\n",
      "Epoch 8/500\n",
      "3256/3256 [==============================] - 0s 45us/sample - loss: 0.3765 - val_loss: 0.3798\n",
      "Epoch 9/500\n",
      "3256/3256 [==============================] - 0s 45us/sample - loss: 0.3711 - val_loss: 0.3735\n",
      "Epoch 10/500\n",
      "3256/3256 [==============================] - 0s 51us/sample - loss: 0.3661 - val_loss: 0.3684\n",
      "Epoch 11/500\n",
      "3256/3256 [==============================] - 0s 51us/sample - loss: 0.3600 - val_loss: 0.3641\n",
      "Epoch 12/500\n",
      "3256/3256 [==============================] - 0s 43us/sample - loss: 0.3556 - val_loss: 0.3606\n",
      "Epoch 13/500\n",
      "3256/3256 [==============================] - 0s 46us/sample - loss: 0.3528 - val_loss: 0.3576\n",
      "Epoch 14/500\n",
      "3256/3256 [==============================] - 0s 45us/sample - loss: 0.3493 - val_loss: 0.3550\n",
      "Epoch 15/500\n",
      "3256/3256 [==============================] - 0s 46us/sample - loss: 0.3472 - val_loss: 0.3529\n",
      "Epoch 16/500\n",
      "3256/3256 [==============================] - 0s 46us/sample - loss: 0.3443 - val_loss: 0.3510\n",
      "Epoch 17/500\n",
      "3256/3256 [==============================] - 0s 44us/sample - loss: 0.3421 - val_loss: 0.3493\n",
      "Epoch 18/500\n",
      "3256/3256 [==============================] - 0s 48us/sample - loss: 0.3423 - val_loss: 0.3476\n",
      "Epoch 19/500\n",
      "3256/3256 [==============================] - 0s 44us/sample - loss: 0.3394 - val_loss: 0.3460\n",
      "Epoch 20/500\n",
      "3256/3256 [==============================] - 0s 42us/sample - loss: 0.3366 - val_loss: 0.3448\n",
      "Epoch 21/500\n",
      "3256/3256 [==============================] - 0s 46us/sample - loss: 0.3339 - val_loss: 0.3436\n",
      "Epoch 22/500\n",
      "3256/3256 [==============================] - 0s 47us/sample - loss: 0.3341 - val_loss: 0.3424\n",
      "Epoch 23/500\n",
      "3256/3256 [==============================] - 0s 51us/sample - loss: 0.3328 - val_loss: 0.3414\n",
      "Epoch 24/500\n",
      "3256/3256 [==============================] - 0s 48us/sample - loss: 0.3327 - val_loss: 0.3404\n",
      "Epoch 25/500\n",
      "3256/3256 [==============================] - 0s 49us/sample - loss: 0.3336 - val_loss: 0.3395\n",
      "Epoch 26/500\n",
      "3256/3256 [==============================] - 0s 53us/sample - loss: 0.3309 - val_loss: 0.3388\n",
      "Epoch 27/500\n",
      "3256/3256 [==============================] - 0s 44us/sample - loss: 0.3285 - val_loss: 0.3380\n",
      "Epoch 28/500\n",
      "3256/3256 [==============================] - 0s 50us/sample - loss: 0.3292 - val_loss: 0.3372\n",
      "Epoch 29/500\n",
      "3256/3256 [==============================] - 0s 51us/sample - loss: 0.3282 - val_loss: 0.3366\n",
      "Epoch 30/500\n",
      "3256/3256 [==============================] - 0s 63us/sample - loss: 0.3257 - val_loss: 0.3360\n",
      "Epoch 31/500\n",
      "3256/3256 [==============================] - 0s 69us/sample - loss: 0.3241 - val_loss: 0.3354\n",
      "Epoch 32/500\n",
      "3256/3256 [==============================] - 0s 67us/sample - loss: 0.3264 - val_loss: 0.3350\n",
      "Epoch 33/500\n",
      "3256/3256 [==============================] - 0s 67us/sample - loss: 0.3251 - val_loss: 0.3344\n",
      "Epoch 34/500\n",
      "3256/3256 [==============================] - 0s 66us/sample - loss: 0.3261 - val_loss: 0.3339\n",
      "Epoch 35/500\n",
      "3256/3256 [==============================] - 0s 64us/sample - loss: 0.3246 - val_loss: 0.3336\n",
      "Epoch 36/500\n",
      "3256/3256 [==============================] - 0s 62us/sample - loss: 0.3238 - val_loss: 0.3330\n",
      "Epoch 37/500\n",
      "3256/3256 [==============================] - 0s 55us/sample - loss: 0.3244 - val_loss: 0.3325\n",
      "Epoch 38/500\n",
      "3256/3256 [==============================] - 0s 42us/sample - loss: 0.3225 - val_loss: 0.3321\n",
      "Epoch 39/500\n",
      "3256/3256 [==============================] - 0s 42us/sample - loss: 0.3203 - val_loss: 0.3317\n",
      "Epoch 40/500\n",
      "3256/3256 [==============================] - 0s 46us/sample - loss: 0.3175 - val_loss: 0.3314\n",
      "Epoch 41/500\n",
      "3256/3256 [==============================] - 0s 45us/sample - loss: 0.3217 - val_loss: 0.3313\n",
      "Epoch 42/500\n",
      "3256/3256 [==============================] - 0s 62us/sample - loss: 0.3239 - val_loss: 0.3311\n",
      "Epoch 43/500\n",
      "3256/3256 [==============================] - 0s 54us/sample - loss: 0.3205 - val_loss: 0.3310\n",
      "Epoch 44/500\n",
      "3256/3256 [==============================] - 0s 48us/sample - loss: 0.3216 - val_loss: 0.3308\n",
      "Epoch 45/500\n",
      "3256/3256 [==============================] - 0s 52us/sample - loss: 0.3220 - val_loss: 0.3304\n",
      "Epoch 46/500\n",
      "3256/3256 [==============================] - 0s 71us/sample - loss: 0.3184 - val_loss: 0.3303\n",
      "Epoch 47/500\n",
      "3256/3256 [==============================] - 0s 48us/sample - loss: 0.3184 - val_loss: 0.3300\n",
      "Epoch 48/500\n",
      "3256/3256 [==============================] - 0s 57us/sample - loss: 0.3189 - val_loss: 0.3297\n",
      "Epoch 49/500\n",
      "3256/3256 [==============================] - 0s 60us/sample - loss: 0.3190 - val_loss: 0.3295\n",
      "Epoch 50/500\n",
      "3256/3256 [==============================] - 0s 44us/sample - loss: 0.3225 - val_loss: 0.3293\n",
      "Epoch 51/500\n",
      "3256/3256 [==============================] - 0s 48us/sample - loss: 0.3177 - val_loss: 0.3292\n",
      "Epoch 52/500\n",
      "3256/3256 [==============================] - 0s 51us/sample - loss: 0.3212 - val_loss: 0.3290\n",
      "Epoch 53/500\n",
      "3256/3256 [==============================] - 0s 49us/sample - loss: 0.3153 - val_loss: 0.3289\n",
      "Epoch 54/500\n",
      "3256/3256 [==============================] - 0s 53us/sample - loss: 0.3151 - val_loss: 0.3287\n",
      "Epoch 55/500\n",
      "3256/3256 [==============================] - 0s 42us/sample - loss: 0.3185 - val_loss: 0.3286\n",
      "Epoch 56/500\n",
      "3256/3256 [==============================] - 0s 41us/sample - loss: 0.3139 - val_loss: 0.3284\n",
      "Epoch 57/500\n",
      "3256/3256 [==============================] - 0s 43us/sample - loss: 0.3173 - val_loss: 0.3282\n",
      "Epoch 58/500\n",
      "3256/3256 [==============================] - 0s 44us/sample - loss: 0.3139 - val_loss: 0.3282\n",
      "Epoch 59/500\n",
      "3256/3256 [==============================] - 0s 43us/sample - loss: 0.3163 - val_loss: 0.3282\n",
      "Epoch 60/500\n",
      "3256/3256 [==============================] - 0s 46us/sample - loss: 0.3164 - val_loss: 0.3281\n",
      "Epoch 61/500\n",
      "3256/3256 [==============================] - 0s 52us/sample - loss: 0.3140 - val_loss: 0.3279\n",
      "Epoch 62/500\n",
      "3256/3256 [==============================] - 0s 50us/sample - loss: 0.3123 - val_loss: 0.3278\n",
      "Epoch 63/500\n",
      "3256/3256 [==============================] - 0s 49us/sample - loss: 0.3157 - val_loss: 0.3277\n",
      "Epoch 64/500\n",
      "3256/3256 [==============================] - 0s 53us/sample - loss: 0.3156 - val_loss: 0.3276\n",
      "Epoch 65/500\n",
      "3256/3256 [==============================] - 0s 66us/sample - loss: 0.3145 - val_loss: 0.3276\n",
      "Epoch 66/500\n",
      "3256/3256 [==============================] - 0s 55us/sample - loss: 0.3148 - val_loss: 0.3274\n",
      "Epoch 67/500\n",
      "3256/3256 [==============================] - 0s 48us/sample - loss: 0.3202 - val_loss: 0.3273\n",
      "Epoch 68/500\n",
      "3256/3256 [==============================] - 0s 63us/sample - loss: 0.3131 - val_loss: 0.3271\n",
      "Epoch 69/500\n",
      "3256/3256 [==============================] - 0s 52us/sample - loss: 0.3183 - val_loss: 0.3269\n",
      "Epoch 70/500\n",
      "3256/3256 [==============================] - 0s 42us/sample - loss: 0.3167 - val_loss: 0.3267\n",
      "Epoch 71/500\n",
      "3256/3256 [==============================] - 0s 49us/sample - loss: 0.3152 - val_loss: 0.3267\n",
      "Epoch 72/500\n",
      "3256/3256 [==============================] - 0s 52us/sample - loss: 0.3128 - val_loss: 0.3267\n",
      "Epoch 73/500\n",
      "3256/3256 [==============================] - 0s 50us/sample - loss: 0.3148 - val_loss: 0.3267\n",
      "Epoch 74/500\n",
      "3256/3256 [==============================] - 0s 86us/sample - loss: 0.3117 - val_loss: 0.3265\n",
      "Epoch 75/500\n",
      "3256/3256 [==============================] - 0s 62us/sample - loss: 0.3087 - val_loss: 0.3266\n",
      "Epoch 76/500\n",
      "3256/3256 [==============================] - 0s 52us/sample - loss: 0.3103 - val_loss: 0.3267\n",
      "Epoch 77/500\n"
     ]
    },
    {
     "name": "stdout",
     "output_type": "stream",
     "text": [
      "3256/3256 [==============================] - 0s 48us/sample - loss: 0.3133 - val_loss: 0.3268\n",
      "Epoch 78/500\n",
      "3256/3256 [==============================] - 0s 57us/sample - loss: 0.3133 - val_loss: 0.3266\n",
      "Epoch 79/500\n",
      "3256/3256 [==============================] - 0s 52us/sample - loss: 0.3126 - val_loss: 0.3264\n",
      "Epoch 80/500\n",
      "3256/3256 [==============================] - 0s 47us/sample - loss: 0.3085 - val_loss: 0.3263\n",
      "Epoch 81/500\n",
      "3256/3256 [==============================] - 0s 50us/sample - loss: 0.3141 - val_loss: 0.3263\n",
      "Epoch 82/500\n",
      "3256/3256 [==============================] - 0s 50us/sample - loss: 0.3102 - val_loss: 0.3263\n",
      "Epoch 83/500\n",
      "3256/3256 [==============================] - 0s 47us/sample - loss: 0.3098 - val_loss: 0.3264\n",
      "Epoch 84/500\n",
      "3256/3256 [==============================] - 0s 63us/sample - loss: 0.3160 - val_loss: 0.3263\n",
      "Epoch 85/500\n",
      "3256/3256 [==============================] - 0s 67us/sample - loss: 0.3113 - val_loss: 0.3262\n",
      "Epoch 86/500\n",
      "3256/3256 [==============================] - 0s 72us/sample - loss: 0.3094 - val_loss: 0.3263\n",
      "Epoch 87/500\n",
      "3256/3256 [==============================] - 0s 71us/sample - loss: 0.3118 - val_loss: 0.3262\n",
      "Epoch 88/500\n",
      "3256/3256 [==============================] - 0s 65us/sample - loss: 0.3135 - val_loss: 0.3261\n",
      "Epoch 89/500\n",
      "3256/3256 [==============================] - 0s 48us/sample - loss: 0.3116 - val_loss: 0.3260\n",
      "Epoch 90/500\n",
      "3256/3256 [==============================] - 0s 51us/sample - loss: 0.3134 - val_loss: 0.3259\n",
      "Epoch 91/500\n",
      "3256/3256 [==============================] - 0s 82us/sample - loss: 0.3132 - val_loss: 0.3257\n",
      "Epoch 92/500\n",
      "3256/3256 [==============================] - 0s 71us/sample - loss: 0.3125 - val_loss: 0.3256\n",
      "Epoch 93/500\n",
      "3256/3256 [==============================] - 0s 77us/sample - loss: 0.3071 - val_loss: 0.3255\n",
      "Epoch 94/500\n",
      "3256/3256 [==============================] - 0s 74us/sample - loss: 0.3105 - val_loss: 0.3255\n",
      "Epoch 95/500\n",
      "3256/3256 [==============================] - 0s 51us/sample - loss: 0.3065 - val_loss: 0.3257\n",
      "Epoch 96/500\n",
      "3256/3256 [==============================] - 0s 51us/sample - loss: 0.3129 - val_loss: 0.3258\n",
      "Epoch 97/500\n",
      "3256/3256 [==============================] - 0s 60us/sample - loss: 0.3128 - val_loss: 0.3259\n",
      "Epoch 98/500\n",
      "3256/3256 [==============================] - 0s 64us/sample - loss: 0.3104 - val_loss: 0.3259\n",
      "Epoch 99/500\n",
      "3256/3256 [==============================] - 0s 62us/sample - loss: 0.3081 - val_loss: 0.3259\n",
      "Epoch 100/500\n",
      "3256/3256 [==============================] - 0s 47us/sample - loss: 0.3096 - val_loss: 0.3258\n",
      "Epoch 101/500\n",
      "3256/3256 [==============================] - 0s 41us/sample - loss: 0.3087 - val_loss: 0.3258\n",
      "Epoch 102/500\n",
      "3256/3256 [==============================] - 0s 43us/sample - loss: 0.3074 - val_loss: 0.3257\n",
      "Epoch 103/500\n",
      "3256/3256 [==============================] - 0s 43us/sample - loss: 0.3080 - val_loss: 0.3256\n",
      "Epoch 104/500\n",
      "3256/3256 [==============================] - 0s 54us/sample - loss: 0.3118 - val_loss: 0.3255\n",
      "Epoch 105/500\n",
      "3256/3256 [==============================] - 0s 50us/sample - loss: 0.3140 - val_loss: 0.3253\n",
      "Epoch 106/500\n",
      "3256/3256 [==============================] - 0s 47us/sample - loss: 0.3155 - val_loss: 0.3253\n",
      "Epoch 107/500\n",
      "3256/3256 [==============================] - 0s 51us/sample - loss: 0.3066 - val_loss: 0.3256\n",
      "Epoch 108/500\n",
      "3256/3256 [==============================] - 0s 55us/sample - loss: 0.3048 - val_loss: 0.3257\n",
      "Epoch 109/500\n",
      "3256/3256 [==============================] - 0s 54us/sample - loss: 0.3098 - val_loss: 0.3257\n",
      "Epoch 110/500\n",
      "3256/3256 [==============================] - 0s 47us/sample - loss: 0.3086 - val_loss: 0.3257\n",
      "Epoch 111/500\n",
      "3256/3256 [==============================] - 0s 46us/sample - loss: 0.3092 - val_loss: 0.3258\n",
      "Epoch 112/500\n",
      "3256/3256 [==============================] - 0s 47us/sample - loss: 0.3095 - val_loss: 0.3256\n",
      "Epoch 113/500\n",
      "3256/3256 [==============================] - 0s 62us/sample - loss: 0.3111 - val_loss: 0.3258\n",
      "Epoch 114/500\n",
      "3256/3256 [==============================] - 0s 52us/sample - loss: 0.3101 - val_loss: 0.3256\n",
      "Epoch 115/500\n",
      "3256/3256 [==============================] - 0s 49us/sample - loss: 0.3052 - val_loss: 0.3256\n",
      "Epoch 116/500\n",
      "3256/3256 [==============================] - 0s 53us/sample - loss: 0.3090 - val_loss: 0.3253\n",
      "Epoch 117/500\n",
      "3256/3256 [==============================] - 0s 58us/sample - loss: 0.3087 - val_loss: 0.3253\n",
      "Epoch 118/500\n",
      "3256/3256 [==============================] - 0s 47us/sample - loss: 0.3051 - val_loss: 0.3253\n",
      "Epoch 119/500\n",
      "3256/3256 [==============================] - 0s 43us/sample - loss: 0.3064 - val_loss: 0.3254\n",
      "Epoch 120/500\n",
      "3256/3256 [==============================] - 0s 57us/sample - loss: 0.3072 - val_loss: 0.3255\n",
      "Epoch 121/500\n",
      "3256/3256 [==============================] - 0s 46us/sample - loss: 0.3060 - val_loss: 0.3255\n",
      "Epoch 122/500\n",
      "3256/3256 [==============================] - 0s 46us/sample - loss: 0.3112 - val_loss: 0.3255\n",
      "Epoch 123/500\n",
      "3256/3256 [==============================] - 0s 50us/sample - loss: 0.3029 - val_loss: 0.3256\n",
      "Epoch 124/500\n",
      "3256/3256 [==============================] - 0s 58us/sample - loss: 0.3078 - val_loss: 0.3253\n",
      "Epoch 125/500\n",
      "3256/3256 [==============================] - 0s 47us/sample - loss: 0.3059 - val_loss: 0.3252\n",
      "Epoch 126/500\n",
      "3256/3256 [==============================] - 0s 56us/sample - loss: 0.3064 - val_loss: 0.3254\n",
      "Epoch 127/500\n",
      "3256/3256 [==============================] - 0s 53us/sample - loss: 0.3067 - val_loss: 0.3253\n",
      "Epoch 128/500\n",
      "3256/3256 [==============================] - 0s 51us/sample - loss: 0.3100 - val_loss: 0.3250\n",
      "Epoch 129/500\n",
      "3256/3256 [==============================] - 0s 54us/sample - loss: 0.3062 - val_loss: 0.3248\n",
      "Epoch 130/500\n",
      "3256/3256 [==============================] - 0s 59us/sample - loss: 0.3067 - val_loss: 0.3247\n",
      "Epoch 131/500\n",
      "3256/3256 [==============================] - 0s 63us/sample - loss: 0.3055 - val_loss: 0.3247\n",
      "Epoch 132/500\n",
      "3256/3256 [==============================] - 0s 51us/sample - loss: 0.3113 - val_loss: 0.3248\n",
      "Epoch 133/500\n",
      "3256/3256 [==============================] - 0s 48us/sample - loss: 0.3063 - val_loss: 0.3250\n",
      "Epoch 134/500\n",
      "3256/3256 [==============================] - 0s 45us/sample - loss: 0.3082 - val_loss: 0.3249\n",
      "Epoch 135/500\n",
      "3256/3256 [==============================] - 0s 46us/sample - loss: 0.3070 - val_loss: 0.3246\n",
      "Epoch 136/500\n",
      "3256/3256 [==============================] - 0s 56us/sample - loss: 0.3071 - val_loss: 0.3245\n",
      "Epoch 137/500\n",
      "3256/3256 [==============================] - 0s 52us/sample - loss: 0.3043 - val_loss: 0.3246\n",
      "Epoch 138/500\n",
      "3256/3256 [==============================] - 0s 55us/sample - loss: 0.3021 - val_loss: 0.3247\n",
      "Epoch 139/500\n",
      "3256/3256 [==============================] - 0s 47us/sample - loss: 0.3035 - val_loss: 0.3247\n",
      "Epoch 140/500\n",
      "3256/3256 [==============================] - 0s 43us/sample - loss: 0.3056 - val_loss: 0.3249\n",
      "Epoch 141/500\n",
      "3256/3256 [==============================] - 0s 46us/sample - loss: 0.3082 - val_loss: 0.3249\n",
      "Epoch 142/500\n",
      "3256/3256 [==============================] - 0s 50us/sample - loss: 0.3040 - val_loss: 0.3247\n",
      "Epoch 143/500\n",
      "3256/3256 [==============================] - 0s 56us/sample - loss: 0.3055 - val_loss: 0.3245\n",
      "Epoch 144/500\n",
      "3256/3256 [==============================] - 0s 53us/sample - loss: 0.3021 - val_loss: 0.3245\n",
      "Epoch 145/500\n",
      "3256/3256 [==============================] - 0s 52us/sample - loss: 0.3022 - val_loss: 0.3246\n",
      "Epoch 146/500\n",
      "3256/3256 [==============================] - 0s 58us/sample - loss: 0.3055 - val_loss: 0.3246\n",
      "Epoch 147/500\n",
      "3256/3256 [==============================] - 0s 46us/sample - loss: 0.3027 - val_loss: 0.3247\n",
      "Epoch 148/500\n",
      "3256/3256 [==============================] - 0s 51us/sample - loss: 0.3028 - val_loss: 0.3247\n",
      "Epoch 149/500\n",
      "3256/3256 [==============================] - 0s 57us/sample - loss: 0.3071 - val_loss: 0.3246\n",
      "Epoch 150/500\n",
      "3256/3256 [==============================] - 0s 52us/sample - loss: 0.3036 - val_loss: 0.3246\n",
      "Epoch 151/500\n",
      "3256/3256 [==============================] - 0s 50us/sample - loss: 0.3064 - val_loss: 0.3245\n",
      "Epoch 152/500\n",
      "3256/3256 [==============================] - 0s 50us/sample - loss: 0.3033 - val_loss: 0.3244\n",
      "Epoch 153/500\n"
     ]
    },
    {
     "name": "stdout",
     "output_type": "stream",
     "text": [
      "3256/3256 [==============================] - 0s 48us/sample - loss: 0.3058 - val_loss: 0.3244\n",
      "Epoch 154/500\n",
      "3256/3256 [==============================] - 0s 55us/sample - loss: 0.3010 - val_loss: 0.3243\n",
      "Epoch 155/500\n",
      "3256/3256 [==============================] - 0s 53us/sample - loss: 0.3072 - val_loss: 0.3242\n",
      "Epoch 156/500\n",
      "3256/3256 [==============================] - 0s 56us/sample - loss: 0.3030 - val_loss: 0.3241\n",
      "Epoch 157/500\n",
      "3256/3256 [==============================] - 0s 50us/sample - loss: 0.3002 - val_loss: 0.3242\n",
      "Epoch 158/500\n",
      "3256/3256 [==============================] - 0s 50us/sample - loss: 0.3073 - val_loss: 0.3243\n",
      "Epoch 159/500\n",
      "3256/3256 [==============================] - 0s 52us/sample - loss: 0.3077 - val_loss: 0.3245\n",
      "Epoch 160/500\n",
      "3256/3256 [==============================] - 0s 52us/sample - loss: 0.3072 - val_loss: 0.3243\n",
      "Epoch 161/500\n",
      "3256/3256 [==============================] - 0s 51us/sample - loss: 0.3032 - val_loss: 0.3243\n",
      "Epoch 162/500\n",
      "3256/3256 [==============================] - 0s 48us/sample - loss: 0.3031 - val_loss: 0.3244\n",
      "Epoch 163/500\n",
      "3256/3256 [==============================] - 0s 50us/sample - loss: 0.2985 - val_loss: 0.3245\n",
      "Epoch 164/500\n",
      "3256/3256 [==============================] - 0s 56us/sample - loss: 0.3044 - val_loss: 0.3244\n",
      "Epoch 165/500\n",
      "3256/3256 [==============================] - 0s 57us/sample - loss: 0.3012 - val_loss: 0.3245\n",
      "Epoch 166/500\n",
      "3256/3256 [==============================] - 0s 60us/sample - loss: 0.3039 - val_loss: 0.3247\n",
      "Epoch 167/500\n",
      "3256/3256 [==============================] - 0s 54us/sample - loss: 0.3002 - val_loss: 0.3246\n",
      "Epoch 168/500\n",
      "3256/3256 [==============================] - 0s 50us/sample - loss: 0.3044 - val_loss: 0.3244\n",
      "Epoch 169/500\n",
      "3256/3256 [==============================] - 0s 52us/sample - loss: 0.3023 - val_loss: 0.3243\n",
      "Epoch 170/500\n",
      "3256/3256 [==============================] - 0s 52us/sample - loss: 0.3034 - val_loss: 0.3243\n",
      "Epoch 171/500\n",
      "3256/3256 [==============================] - 0s 56us/sample - loss: 0.3018 - val_loss: 0.3243\n",
      "Epoch 172/500\n",
      "3256/3256 [==============================] - 0s 50us/sample - loss: 0.3049 - val_loss: 0.3241\n",
      "Epoch 173/500\n",
      "3256/3256 [==============================] - 0s 58us/sample - loss: 0.3025 - val_loss: 0.3242\n",
      "Epoch 174/500\n",
      "3256/3256 [==============================] - 0s 53us/sample - loss: 0.3028 - val_loss: 0.3240\n",
      "Epoch 175/500\n",
      "3256/3256 [==============================] - 0s 53us/sample - loss: 0.3010 - val_loss: 0.3246\n",
      "Epoch 176/500\n",
      "3256/3256 [==============================] - 0s 52us/sample - loss: 0.3041 - val_loss: 0.3245\n",
      "Epoch 177/500\n",
      "3256/3256 [==============================] - 0s 54us/sample - loss: 0.3025 - val_loss: 0.3247\n",
      "Epoch 178/500\n",
      "3256/3256 [==============================] - 0s 53us/sample - loss: 0.2993 - val_loss: 0.3246\n",
      "Epoch 179/500\n",
      "3256/3256 [==============================] - 0s 56us/sample - loss: 0.3057 - val_loss: 0.3244\n",
      "Epoch 180/500\n",
      "3256/3256 [==============================] - 0s 61us/sample - loss: 0.2986 - val_loss: 0.3245\n",
      "Epoch 181/500\n",
      "3256/3256 [==============================] - 0s 60us/sample - loss: 0.3007 - val_loss: 0.3244\n",
      "Epoch 182/500\n",
      "3256/3256 [==============================] - 0s 47us/sample - loss: 0.2987 - val_loss: 0.3243\n",
      "Epoch 183/500\n",
      "3256/3256 [==============================] - 0s 50us/sample - loss: 0.3012 - val_loss: 0.3242\n",
      "Epoch 184/500\n",
      "3256/3256 [==============================] - 0s 46us/sample - loss: 0.3004 - val_loss: 0.3242\n",
      "Epoch 185/500\n",
      "3256/3256 [==============================] - 0s 51us/sample - loss: 0.2984 - val_loss: 0.3243\n",
      "Epoch 186/500\n",
      "3256/3256 [==============================] - 0s 55us/sample - loss: 0.3031 - val_loss: 0.3246\n",
      "Epoch 187/500\n",
      "3256/3256 [==============================] - 0s 52us/sample - loss: 0.2986 - val_loss: 0.3244\n",
      "Epoch 188/500\n",
      "3256/3256 [==============================] - 0s 47us/sample - loss: 0.3008 - val_loss: 0.3246\n",
      "Epoch 189/500\n",
      "3256/3256 [==============================] - 0s 57us/sample - loss: 0.2977 - val_loss: 0.3244\n",
      "Epoch 190/500\n",
      "3256/3256 [==============================] - 0s 52us/sample - loss: 0.2967 - val_loss: 0.3243\n",
      "Epoch 191/500\n",
      "3256/3256 [==============================] - 0s 49us/sample - loss: 0.3010 - val_loss: 0.3241\n",
      "Epoch 192/500\n",
      "3256/3256 [==============================] - 0s 49us/sample - loss: 0.2995 - val_loss: 0.3241\n",
      "Epoch 193/500\n",
      "3256/3256 [==============================] - 0s 54us/sample - loss: 0.2989 - val_loss: 0.3241\n",
      "Epoch 194/500\n",
      "3256/3256 [==============================] - 0s 57us/sample - loss: 0.2995 - val_loss: 0.3244\n"
     ]
    }
   ],
   "source": [
    "def build(output_size):\n",
    "    model = models.Sequential()\n",
    "    model.add(layers.GaussianNoise(0.1))\n",
    "    model.add(layers.Dense(units=100, activation=activations.tanh))\n",
    "    model.add(layers.Dense(units=output_size, activation=activations.sigmoid))\n",
    "\n",
    "    model.compile(loss='binary_crossentropy',\n",
    "                  optimizer=optimizers.Adam(learning_rate=0.0005))\n",
    "\n",
    "    return model\n",
    "\n",
    "def fit(epochs, batch_size, inputs, outputs, validation_inputs, validation_outputs):\n",
    "    model.fit(inputs, outputs,\n",
    "              callbacks=[callbacks.EarlyStopping(mode=\"min\", patience=20, restore_best_weights=True, monitor=\"val_loss\")],\n",
    "              validation_data=(validation_inputs, validation_outputs),\n",
    "              batch_size=batch_size,\n",
    "              epochs=epochs,\n",
    "              shuffle=True)\n",
    "    \n",
    "epochs = 500\n",
    "batch_size = 500\n",
    "\n",
    "model = build(train_outputs.shape[1])\n",
    "\n",
    "fit(epochs, batch_size, train_inputs, train_outputs, validation_inputs, validation_outputs)"
   ]
  },
  {
   "cell_type": "code",
   "execution_count": 20,
   "metadata": {
    "scrolled": true
   },
   "outputs": [],
   "source": [
    "def predict_and_plot(n, inputs, outputs):\n",
    "    selection = np.arange(n)\n",
    "\n",
    "    predicted = model.predict(inputs)[selection]\n",
    "\n",
    "    absolute_distance_from_outputs = np.abs(outputs[selection] - predicted)\n",
    "    missclassified_number = np.sum((absolute_distance_from_outputs > 0.5) * 1.0)\n",
    "    \n",
    "    plt.figure(figsize=(20,3))\n",
    "    plt.plot(np.zeros(n), 'b')\n",
    "    plt.plot(np.ones(n) * 0.5, 'b')\n",
    "    plt.plot(np.ones(n), 'b')\n",
    "    plt.plot(absolute_distance_from_outputs, 'xr')\n",
    "    \n",
    "    print(str(missclassified_number / n * 100) + \"%\")\n",
    "    plt.show()"
   ]
  },
  {
   "cell_type": "code",
   "execution_count": 21,
   "metadata": {},
   "outputs": [
    {
     "name": "stdout",
     "output_type": "stream",
     "text": [
      "13.0%\n"
     ]
    },
    {
     "data": {
      "image/png": "[encoded data removed]",
      "text/plain": [
       "<Figure size 1440x216 with 1 Axes>"
      ]
     },
     "metadata": {
      "needs_background": "light"
     },
     "output_type": "display_data"
    }
   ],
   "source": [
    "predict_and_plot(500, train_inputs, train_outputs)"
   ]
  },
  {
   "cell_type": "code",
   "execution_count": 22,
   "metadata": {},
   "outputs": [
    {
     "name": "stdout",
     "output_type": "stream",
     "text": [
      "13.600000000000001%\n"
     ]
    },
    {
     "data": {
      "image/png": "[encoded data removed]",
      "text/plain": [
       "<Figure size 1440x216 with 1 Axes>"
      ]
     },
     "metadata": {
      "needs_background": "light"
     },
     "output_type": "display_data"
    }
   ],
   "source": [
    "predict_and_plot(500, validation_inputs, validation_outputs)"
   ]
  }
 ],
 "metadata": {
  "kernelspec": {
   "display_name": "Python 3",
   "language": "python",
   "name": "python3"
  },
  "language_info": {
   "codemirror_mode": {
    "name": "ipython",
    "version": 3
   },
   "file_extension": ".py",
   "mimetype": "text/x-python",
   "name": "python",
   "nbconvert_exporter": "python",
   "pygments_lexer": "ipython3",
   "version": "3.6.8"
  }
 },
 "nbformat": 4,
 "nbformat_minor": 2
}
