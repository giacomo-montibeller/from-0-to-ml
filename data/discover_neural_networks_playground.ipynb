{
 "cells": [
  {
   "cell_type": "code",
   "execution_count": 1,
   "metadata": {},
   "outputs": [],
   "source": [
    "import numpy as np\n",
    "import matplotlib.pyplot as plt\n",
    "import inspect\n",
    "import re\n",
    "    \n",
    "def show_loss_on_distribution(distribution, w, loss):\n",
    "    plt.plot(distribution, 'g-')\n",
    "    plt.plot(w, loss, 'rx')\n",
    "    plt.show()\n",
    "\n",
    "def show_gradient_on_distribution(distribution, w, loss, gradient):\n",
    "    plt.plot(distribution, 'g-')\n",
    "    plt.arrow(w, loss, 1, gradient, width=0.2, color=\"red\", length_includes_head=True)\n",
    "    plt.show()\n",
    "\n",
    "def print_vars(*variables):\n",
    "    for index in range(len(variables)):\n",
    "        frame = inspect.currentframe().f_back\n",
    "        s = inspect.getframeinfo(frame).code_context[0]\n",
    "        r = re.search(r\"\\((.*)\\)\", s).group(1)\n",
    "        print(\"{} = {}\".format(r.split(\", \")[index],variables[index]))"
   ]
  },
  {
   "cell_type": "code",
   "execution_count": 59,
   "metadata": {},
   "outputs": [
    {
     "name": "stdout",
     "output_type": "stream",
     "text": [
      "x = [[ 0. 10.  1.]\n",
      " [ 1. 11.  1.]\n",
      " [ 2. 12.  1.]\n",
      " [ 3. 13.  1.]]\n",
      "y = [[False  True]\n",
      " [False  True]\n",
      " [ True False]\n",
      " [ True False]]\n"
     ]
    }
   ],
   "source": [
    "# y = x * w + 1 * b\n",
    "\n",
    "x1 = np.expand_dims(np.arange(4), 1)\n",
    "x2 = np.expand_dims(np.arange(4) + 10, 1)\n",
    "x = np.hstack((x1, x2))\n",
    "y1 = x1 + x2 > 12\n",
    "y2 = x1 + x2 <= 12\n",
    "y = np.hstack((y1, y2))\n",
    "\n",
    "ones = np.ones((x.shape[0], 1))\n",
    "x = np.hstack((x, ones))\n",
    "\n",
    "print_vars(x, y)"
   ]
  },
  {
   "cell_type": "code",
   "execution_count": 60,
   "metadata": {},
   "outputs": [
    {
     "name": "stdout",
     "output_type": "stream",
     "text": [
      "x = [[ 0. 10.  1.]\n",
      " [ 1. 11.  1.]\n",
      " [ 2. 12.  1.]\n",
      " [ 3. 13.  1.]]\n",
      "prediction = [[2.23344509e-04 9.99776655e-01]\n",
      " [5.81567049e-02 9.41843295e-01]\n",
      " [9.44652010e-01 5.53479905e-02]\n",
      " [9.99788072e-01 2.11928372e-04]]\n",
      "y = [[False  True]\n",
      " [False  True]\n",
      " [ True False]\n",
      " [ True False]]\n",
      "w = [[ 6.39093128 -6.39093128]\n",
      " [-0.76905729  0.76905729]\n",
      " [-0.71599886  0.71599886]]\n"
     ]
    }
   ],
   "source": [
    "# loss(activate(multiply(w, x), y))\n",
    "\n",
    "def multiply(x, w):\n",
    "    # x = 4x2\n",
    "    # w = 2x1\n",
    "    return np.matmul(x, w) # 4x1\n",
    "\n",
    "def calculate_d_multiply(x, w):\n",
    "    return x # 4x2\n",
    "\n",
    "def activate(x):\n",
    "    return 1 / (1 + np.exp(-x))\n",
    "\n",
    "def calculate_d_activate(x):\n",
    "    return activate(x) * (1 - activate(x))\n",
    "\n",
    "def calculate_loss(prediction, y):\n",
    "    return np.mean(np.power(prediction - y, 2)) # 1x1 -> sum(n1,n2,n2)/ n\n",
    "\n",
    "def calculate_d_loss(prediction, y):\n",
    "    return 2 * (prediction - y) / y.shape[0] # 4x1\n",
    "\n",
    "def train(x, y, learning_rate, steps):\n",
    "    w = np.zeros((x.shape[1], y.shape[1]))\n",
    "    for i in range(steps):\n",
    "        # forward\n",
    "        multiplication = multiply(x, w) # 4x1\n",
    "        prediction = activate(multiplication) # 4x1\n",
    "\n",
    "        # calculation of error\n",
    "        loss = calculate_loss(prediction, y) # 1x1\n",
    "\n",
    "        # backpropagation\n",
    "        d_multiply = calculate_d_multiply(x, w) # 4x2 --> 2x4\n",
    "        d_activate = calculate_d_activate(multiplication)\n",
    "        d_loss = calculate_d_loss(prediction, y) # 4x1\n",
    "\n",
    "        gradient = np.matmul(d_multiply.T, d_loss * d_activate) # 2x1 \n",
    "\n",
    "        w = w - gradient * learning_rate\n",
    "    return w\n",
    "\n",
    "w = train(x, y, 0.1, 10000)\n",
    "prediction = activate(multiply(x, w))\n",
    "print_vars(x, prediction, y, w)"
   ]
  },
  {
   "cell_type": "code",
   "execution_count": null,
   "metadata": {},
   "outputs": [],
   "source": []
  },
  {
   "cell_type": "code",
   "execution_count": null,
   "metadata": {},
   "outputs": [],
   "source": []
  },
  {
   "cell_type": "code",
   "execution_count": null,
   "metadata": {},
   "outputs": [],
   "source": []
  },
  {
   "cell_type": "code",
   "execution_count": null,
   "metadata": {},
   "outputs": [],
   "source": []
  }
 ],
 "metadata": {
  "kernelspec": {
   "display_name": "Python 3",
   "language": "python",
   "name": "python3"
  },
  "language_info": {
   "codemirror_mode": {
    "name": "ipython",
    "version": 3
   },
   "file_extension": ".py",
   "mimetype": "text/x-python",
   "name": "python",
   "nbconvert_exporter": "python",
   "pygments_lexer": "ipython3",
   "version": "3.7.3"
  }
 },
 "nbformat": 4,
 "nbformat_minor": 2
}
